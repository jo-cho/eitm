{
  "nbformat": 4,
  "nbformat_minor": 0,
  "metadata": {
    "colab": {
      "provenance": [],
      "authorship_tag": "ABX9TyOLY/xNN6NaC5L0n7cU8PjI",
      "include_colab_link": true
    },
    "kernelspec": {
      "name": "python3",
      "display_name": "Python 3"
    },
    "language_info": {
      "name": "python"
    },
    "widgets": {
      "application/vnd.jupyter.widget-state+json": {
        "8ec1c87037764b6f9a8b9c9d696a6f06": {
          "model_module": "@jupyter-widgets/controls",
          "model_name": "TextModel",
          "model_module_version": "1.5.0",
          "state": {
            "_dom_classes": [],
            "_model_module": "@jupyter-widgets/controls",
            "_model_module_version": "1.5.0",
            "_model_name": "TextModel",
            "_view_count": null,
            "_view_module": "@jupyter-widgets/controls",
            "_view_module_version": "1.5.0",
            "_view_name": "TextView",
            "continuous_update": true,
            "description": "포함 단어:",
            "description_tooltip": null,
            "disabled": false,
            "layout": "IPY_MODEL_7a9e05c83c244bc4896a863d728fe5f1",
            "placeholder": "​",
            "style": "IPY_MODEL_c7c6b2258c324640ba11e4cc4b527cd4",
            "value": "커피"
          }
        },
        "7a9e05c83c244bc4896a863d728fe5f1": {
          "model_module": "@jupyter-widgets/base",
          "model_name": "LayoutModel",
          "model_module_version": "1.2.0",
          "state": {
            "_model_module": "@jupyter-widgets/base",
            "_model_module_version": "1.2.0",
            "_model_name": "LayoutModel",
            "_view_count": null,
            "_view_module": "@jupyter-widgets/base",
            "_view_module_version": "1.2.0",
            "_view_name": "LayoutView",
            "align_content": null,
            "align_items": null,
            "align_self": null,
            "border": null,
            "bottom": null,
            "display": null,
            "flex": null,
            "flex_flow": null,
            "grid_area": null,
            "grid_auto_columns": null,
            "grid_auto_flow": null,
            "grid_auto_rows": null,
            "grid_column": null,
            "grid_gap": null,
            "grid_row": null,
            "grid_template_areas": null,
            "grid_template_columns": null,
            "grid_template_rows": null,
            "height": null,
            "justify_content": null,
            "justify_items": null,
            "left": null,
            "margin": null,
            "max_height": null,
            "max_width": null,
            "min_height": null,
            "min_width": null,
            "object_fit": null,
            "object_position": null,
            "order": null,
            "overflow": null,
            "overflow_x": null,
            "overflow_y": null,
            "padding": null,
            "right": null,
            "top": null,
            "visibility": null,
            "width": null
          }
        },
        "c7c6b2258c324640ba11e4cc4b527cd4": {
          "model_module": "@jupyter-widgets/controls",
          "model_name": "DescriptionStyleModel",
          "model_module_version": "1.5.0",
          "state": {
            "_model_module": "@jupyter-widgets/controls",
            "_model_module_version": "1.5.0",
            "_model_name": "DescriptionStyleModel",
            "_view_count": null,
            "_view_module": "@jupyter-widgets/base",
            "_view_module_version": "1.2.0",
            "_view_name": "StyleView",
            "description_width": "initial"
          }
        },
        "c0be5dd994444ad9b937b75d6d2c9c48": {
          "model_module": "@jupyter-widgets/controls",
          "model_name": "TextModel",
          "model_module_version": "1.5.0",
          "state": {
            "_dom_classes": [],
            "_model_module": "@jupyter-widgets/controls",
            "_model_module_version": "1.5.0",
            "_model_name": "TextModel",
            "_view_count": null,
            "_view_module": "@jupyter-widgets/controls",
            "_view_module_version": "1.5.0",
            "_view_name": "TextView",
            "continuous_update": true,
            "description": "시작날짜(yyyy-mm-dd):",
            "description_tooltip": null,
            "disabled": false,
            "layout": "IPY_MODEL_24b51cc3bd624768963e5ddcba27aa56",
            "placeholder": "​",
            "style": "IPY_MODEL_60e3023ccf7545a09589f1c1bbf2f3ff",
            "value": "1996-01-01"
          }
        },
        "24b51cc3bd624768963e5ddcba27aa56": {
          "model_module": "@jupyter-widgets/base",
          "model_name": "LayoutModel",
          "model_module_version": "1.2.0",
          "state": {
            "_model_module": "@jupyter-widgets/base",
            "_model_module_version": "1.2.0",
            "_model_name": "LayoutModel",
            "_view_count": null,
            "_view_module": "@jupyter-widgets/base",
            "_view_module_version": "1.2.0",
            "_view_name": "LayoutView",
            "align_content": null,
            "align_items": null,
            "align_self": null,
            "border": null,
            "bottom": null,
            "display": null,
            "flex": null,
            "flex_flow": null,
            "grid_area": null,
            "grid_auto_columns": null,
            "grid_auto_flow": null,
            "grid_auto_rows": null,
            "grid_column": null,
            "grid_gap": null,
            "grid_row": null,
            "grid_template_areas": null,
            "grid_template_columns": null,
            "grid_template_rows": null,
            "height": null,
            "justify_content": null,
            "justify_items": null,
            "left": null,
            "margin": null,
            "max_height": null,
            "max_width": null,
            "min_height": null,
            "min_width": null,
            "object_fit": null,
            "object_position": null,
            "order": null,
            "overflow": null,
            "overflow_x": null,
            "overflow_y": null,
            "padding": null,
            "right": null,
            "top": null,
            "visibility": null,
            "width": null
          }
        },
        "60e3023ccf7545a09589f1c1bbf2f3ff": {
          "model_module": "@jupyter-widgets/controls",
          "model_name": "DescriptionStyleModel",
          "model_module_version": "1.5.0",
          "state": {
            "_model_module": "@jupyter-widgets/controls",
            "_model_module_version": "1.5.0",
            "_model_name": "DescriptionStyleModel",
            "_view_count": null,
            "_view_module": "@jupyter-widgets/base",
            "_view_module_version": "1.2.0",
            "_view_name": "StyleView",
            "description_width": "initial"
          }
        },
        "c8890b8e5a364f99b0b8b0883aee955e": {
          "model_module": "@jupyter-widgets/controls",
          "model_name": "TextModel",
          "model_module_version": "1.5.0",
          "state": {
            "_dom_classes": [],
            "_model_module": "@jupyter-widgets/controls",
            "_model_module_version": "1.5.0",
            "_model_name": "TextModel",
            "_view_count": null,
            "_view_module": "@jupyter-widgets/controls",
            "_view_module_version": "1.5.0",
            "_view_name": "TextView",
            "continuous_update": true,
            "description": "끝날짜(yyyy-mm-dd):",
            "description_tooltip": null,
            "disabled": false,
            "layout": "IPY_MODEL_5a35d71a51004077912d48a33e8f8faa",
            "placeholder": "​",
            "style": "IPY_MODEL_d7f31107e77b49fd8b74fca06be194d0",
            "value": "2024-05-31"
          }
        },
        "5a35d71a51004077912d48a33e8f8faa": {
          "model_module": "@jupyter-widgets/base",
          "model_name": "LayoutModel",
          "model_module_version": "1.2.0",
          "state": {
            "_model_module": "@jupyter-widgets/base",
            "_model_module_version": "1.2.0",
            "_model_name": "LayoutModel",
            "_view_count": null,
            "_view_module": "@jupyter-widgets/base",
            "_view_module_version": "1.2.0",
            "_view_name": "LayoutView",
            "align_content": null,
            "align_items": null,
            "align_self": null,
            "border": null,
            "bottom": null,
            "display": null,
            "flex": null,
            "flex_flow": null,
            "grid_area": null,
            "grid_auto_columns": null,
            "grid_auto_flow": null,
            "grid_auto_rows": null,
            "grid_column": null,
            "grid_gap": null,
            "grid_row": null,
            "grid_template_areas": null,
            "grid_template_columns": null,
            "grid_template_rows": null,
            "height": null,
            "justify_content": null,
            "justify_items": null,
            "left": null,
            "margin": null,
            "max_height": null,
            "max_width": null,
            "min_height": null,
            "min_width": null,
            "object_fit": null,
            "object_position": null,
            "order": null,
            "overflow": null,
            "overflow_x": null,
            "overflow_y": null,
            "padding": null,
            "right": null,
            "top": null,
            "visibility": null,
            "width": null
          }
        },
        "d7f31107e77b49fd8b74fca06be194d0": {
          "model_module": "@jupyter-widgets/controls",
          "model_name": "DescriptionStyleModel",
          "model_module_version": "1.5.0",
          "state": {
            "_model_module": "@jupyter-widgets/controls",
            "_model_module_version": "1.5.0",
            "_model_name": "DescriptionStyleModel",
            "_view_count": null,
            "_view_module": "@jupyter-widgets/base",
            "_view_module_version": "1.2.0",
            "_view_name": "StyleView",
            "description_width": "initial"
          }
        },
        "3650255e7dec4795b7710c569b5076f9": {
          "model_module": "@jupyter-widgets/controls",
          "model_name": "DropdownModel",
          "model_module_version": "1.5.0",
          "state": {
            "_dom_classes": [],
            "_model_module": "@jupyter-widgets/controls",
            "_model_module_version": "1.5.0",
            "_model_name": "DropdownModel",
            "_options_labels": [
              "daily",
              "monthly",
              "annually"
            ],
            "_view_count": null,
            "_view_module": "@jupyter-widgets/controls",
            "_view_module_version": "1.5.0",
            "_view_name": "DropdownView",
            "description": "기간:",
            "description_tooltip": null,
            "disabled": false,
            "index": 2,
            "layout": "IPY_MODEL_62e42a423f3c4b0ea1054d30b9ff0bc1",
            "style": "IPY_MODEL_75cf5f13a19e4b9fb006a21bb31c0d1b"
          }
        },
        "62e42a423f3c4b0ea1054d30b9ff0bc1": {
          "model_module": "@jupyter-widgets/base",
          "model_name": "LayoutModel",
          "model_module_version": "1.2.0",
          "state": {
            "_model_module": "@jupyter-widgets/base",
            "_model_module_version": "1.2.0",
            "_model_name": "LayoutModel",
            "_view_count": null,
            "_view_module": "@jupyter-widgets/base",
            "_view_module_version": "1.2.0",
            "_view_name": "LayoutView",
            "align_content": null,
            "align_items": null,
            "align_self": null,
            "border": null,
            "bottom": null,
            "display": null,
            "flex": null,
            "flex_flow": null,
            "grid_area": null,
            "grid_auto_columns": null,
            "grid_auto_flow": null,
            "grid_auto_rows": null,
            "grid_column": null,
            "grid_gap": null,
            "grid_row": null,
            "grid_template_areas": null,
            "grid_template_columns": null,
            "grid_template_rows": null,
            "height": null,
            "justify_content": null,
            "justify_items": null,
            "left": null,
            "margin": null,
            "max_height": null,
            "max_width": null,
            "min_height": null,
            "min_width": null,
            "object_fit": null,
            "object_position": null,
            "order": null,
            "overflow": null,
            "overflow_x": null,
            "overflow_y": null,
            "padding": null,
            "right": null,
            "top": null,
            "visibility": null,
            "width": null
          }
        },
        "75cf5f13a19e4b9fb006a21bb31c0d1b": {
          "model_module": "@jupyter-widgets/controls",
          "model_name": "DescriptionStyleModel",
          "model_module_version": "1.5.0",
          "state": {
            "_model_module": "@jupyter-widgets/controls",
            "_model_module_version": "1.5.0",
            "_model_name": "DescriptionStyleModel",
            "_view_count": null,
            "_view_module": "@jupyter-widgets/base",
            "_view_module_version": "1.2.0",
            "_view_name": "StyleView",
            "description_width": "initial"
          }
        },
        "2c5f0631a0544839a26b3f7e40f9a47c": {
          "model_module": "@jupyter-widgets/controls",
          "model_name": "DropdownModel",
          "model_module_version": "1.5.0",
          "state": {
            "_dom_classes": [],
            "_model_module": "@jupyter-widgets/controls",
            "_model_module_version": "1.5.0",
            "_model_name": "DropdownModel",
            "_options_labels": [
              "요약",
              "제목"
            ],
            "_view_count": null,
            "_view_module": "@jupyter-widgets/controls",
            "_view_module_version": "1.5.0",
            "_view_name": "DropdownView",
            "description": "텍스트 출처:",
            "description_tooltip": null,
            "disabled": false,
            "index": 0,
            "layout": "IPY_MODEL_8c489998d1a04a1abc14b0cdca8031e8",
            "style": "IPY_MODEL_43be413b4c3246c99081be3dbac19e34"
          }
        },
        "8c489998d1a04a1abc14b0cdca8031e8": {
          "model_module": "@jupyter-widgets/base",
          "model_name": "LayoutModel",
          "model_module_version": "1.2.0",
          "state": {
            "_model_module": "@jupyter-widgets/base",
            "_model_module_version": "1.2.0",
            "_model_name": "LayoutModel",
            "_view_count": null,
            "_view_module": "@jupyter-widgets/base",
            "_view_module_version": "1.2.0",
            "_view_name": "LayoutView",
            "align_content": null,
            "align_items": null,
            "align_self": null,
            "border": null,
            "bottom": null,
            "display": null,
            "flex": null,
            "flex_flow": null,
            "grid_area": null,
            "grid_auto_columns": null,
            "grid_auto_flow": null,
            "grid_auto_rows": null,
            "grid_column": null,
            "grid_gap": null,
            "grid_row": null,
            "grid_template_areas": null,
            "grid_template_columns": null,
            "grid_template_rows": null,
            "height": null,
            "justify_content": null,
            "justify_items": null,
            "left": null,
            "margin": null,
            "max_height": null,
            "max_width": null,
            "min_height": null,
            "min_width": null,
            "object_fit": null,
            "object_position": null,
            "order": null,
            "overflow": null,
            "overflow_x": null,
            "overflow_y": null,
            "padding": null,
            "right": null,
            "top": null,
            "visibility": null,
            "width": null
          }
        },
        "43be413b4c3246c99081be3dbac19e34": {
          "model_module": "@jupyter-widgets/controls",
          "model_name": "DescriptionStyleModel",
          "model_module_version": "1.5.0",
          "state": {
            "_model_module": "@jupyter-widgets/controls",
            "_model_module_version": "1.5.0",
            "_model_name": "DescriptionStyleModel",
            "_view_count": null,
            "_view_module": "@jupyter-widgets/base",
            "_view_module_version": "1.2.0",
            "_view_name": "StyleView",
            "description_width": "initial"
          }
        },
        "1e1d3315860145fc87bc682d5423a4f5": {
          "model_module": "@jupyter-widgets/controls",
          "model_name": "ButtonModel",
          "model_module_version": "1.5.0",
          "state": {
            "_dom_classes": [],
            "_model_module": "@jupyter-widgets/controls",
            "_model_module_version": "1.5.0",
            "_model_name": "ButtonModel",
            "_view_count": null,
            "_view_module": "@jupyter-widgets/controls",
            "_view_module_version": "1.5.0",
            "_view_name": "ButtonView",
            "button_style": "info",
            "description": "그리기",
            "disabled": false,
            "icon": "",
            "layout": "IPY_MODEL_ff4c984964d34521951b962cfebc5062",
            "style": "IPY_MODEL_c6cbb32cfb7d489d95af81320d875a9c",
            "tooltip": "누르면 그래프가 그려집니다."
          }
        },
        "ff4c984964d34521951b962cfebc5062": {
          "model_module": "@jupyter-widgets/base",
          "model_name": "LayoutModel",
          "model_module_version": "1.2.0",
          "state": {
            "_model_module": "@jupyter-widgets/base",
            "_model_module_version": "1.2.0",
            "_model_name": "LayoutModel",
            "_view_count": null,
            "_view_module": "@jupyter-widgets/base",
            "_view_module_version": "1.2.0",
            "_view_name": "LayoutView",
            "align_content": null,
            "align_items": null,
            "align_self": null,
            "border": null,
            "bottom": null,
            "display": null,
            "flex": null,
            "flex_flow": null,
            "grid_area": null,
            "grid_auto_columns": null,
            "grid_auto_flow": null,
            "grid_auto_rows": null,
            "grid_column": null,
            "grid_gap": null,
            "grid_row": null,
            "grid_template_areas": null,
            "grid_template_columns": null,
            "grid_template_rows": null,
            "height": null,
            "justify_content": null,
            "justify_items": null,
            "left": null,
            "margin": null,
            "max_height": null,
            "max_width": null,
            "min_height": null,
            "min_width": null,
            "object_fit": null,
            "object_position": null,
            "order": null,
            "overflow": null,
            "overflow_x": null,
            "overflow_y": null,
            "padding": null,
            "right": null,
            "top": null,
            "visibility": null,
            "width": null
          }
        },
        "c6cbb32cfb7d489d95af81320d875a9c": {
          "model_module": "@jupyter-widgets/controls",
          "model_name": "ButtonStyleModel",
          "model_module_version": "1.5.0",
          "state": {
            "_model_module": "@jupyter-widgets/controls",
            "_model_module_version": "1.5.0",
            "_model_name": "ButtonStyleModel",
            "_view_count": null,
            "_view_module": "@jupyter-widgets/base",
            "_view_module_version": "1.2.0",
            "_view_name": "StyleView",
            "button_color": null,
            "font_weight": ""
          }
        },
        "88afaf6cd97c40d99fc2bed32aae6c9b": {
          "model_module": "@jupyter-widgets/output",
          "model_name": "OutputModel",
          "model_module_version": "1.0.0",
          "state": {
            "_dom_classes": [],
            "_model_module": "@jupyter-widgets/output",
            "_model_module_version": "1.0.0",
            "_model_name": "OutputModel",
            "_view_count": null,
            "_view_module": "@jupyter-widgets/output",
            "_view_module_version": "1.0.0",
            "_view_name": "OutputView",
            "layout": "IPY_MODEL_c245be9694e849b89350fd2d6eb43e60",
            "msg_id": "",
            "outputs": [
              {
                "output_type": "display_data",
                "data": {
                  "text/plain": "<Figure size 1600x600 with 1 Axes>",
                  "image/png": "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\n"
                },
                "metadata": {}
              },
              {
                "output_type": "stream",
                "name": "stdout",
                "text": [
                  "포함 단어: ['커피']\n"
                ]
              }
            ]
          }
        },
        "c245be9694e849b89350fd2d6eb43e60": {
          "model_module": "@jupyter-widgets/base",
          "model_name": "LayoutModel",
          "model_module_version": "1.2.0",
          "state": {
            "_model_module": "@jupyter-widgets/base",
            "_model_module_version": "1.2.0",
            "_model_name": "LayoutModel",
            "_view_count": null,
            "_view_module": "@jupyter-widgets/base",
            "_view_module_version": "1.2.0",
            "_view_name": "LayoutView",
            "align_content": null,
            "align_items": null,
            "align_self": null,
            "border": null,
            "bottom": null,
            "display": null,
            "flex": null,
            "flex_flow": null,
            "grid_area": null,
            "grid_auto_columns": null,
            "grid_auto_flow": null,
            "grid_auto_rows": null,
            "grid_column": null,
            "grid_gap": null,
            "grid_row": null,
            "grid_template_areas": null,
            "grid_template_columns": null,
            "grid_template_rows": null,
            "height": null,
            "justify_content": null,
            "justify_items": null,
            "left": null,
            "margin": null,
            "max_height": null,
            "max_width": null,
            "min_height": null,
            "min_width": null,
            "object_fit": null,
            "object_position": null,
            "order": null,
            "overflow": null,
            "overflow_x": null,
            "overflow_y": null,
            "padding": null,
            "right": null,
            "top": null,
            "visibility": null,
            "width": null
          }
        }
      }
    }
  },
  "cells": [
    {
      "cell_type": "markdown",
      "metadata": {
        "id": "view-in-github",
        "colab_type": "text"
      },
      "source": [
        "<a href=\"https://colab.research.google.com/github/jo-cho/eitm/blob/main/text_analysis/EPIC_Keyword_Plot.ipynb\" target=\"_parent\"><img src=\"https://colab.research.google.com/assets/colab-badge.svg\" alt=\"Open In Colab\"/></a>"
      ]
    },
    {
      "cell_type": "markdown",
      "source": [
        "# Made BY JO-CHO"
      ],
      "metadata": {
        "id": "tHTcu03u1uJ2"
      }
    },
    {
      "cell_type": "markdown",
      "source": [
        "아래 코드를 변경없이 모두 실행해주세요."
      ],
      "metadata": {
        "id": "7p_P-VmJinBy"
      }
    },
    {
      "cell_type": "markdown",
      "source": [
        "## import"
      ],
      "metadata": {
        "id": "-rrvjFLa1zd6"
      }
    },
    {
      "cell_type": "code",
      "execution_count": null,
      "metadata": {
        "id": "9kgQO8XR1j7C"
      },
      "outputs": [],
      "source": [
        "# Made BY JO-CHO\n",
        "import pandas as pd\n",
        "import numpy as np\n",
        "import matplotlib.pyplot as plt\n",
        "from matplotlib import font_manager, rc\n",
        "from collections import Counter\n",
        "import ipywidgets as widgets\n",
        "from IPython.display import display\n",
        "import warnings\n",
        "warnings.filterwarnings('ignore')"
      ]
    },
    {
      "cell_type": "markdown",
      "source": [
        "## load file\n",
        "\n",
        "데이터 로딩 시간이 조금 걸릴 수 있습니다."
      ],
      "metadata": {
        "id": "rfPSPEXx1_JN"
      }
    },
    {
      "cell_type": "code",
      "source": [
        "file_url = \"https://github.com/jo-cho/eitm/raw/main/data/epic_data.xlsx\"\n",
        "raw_df = pd.read_excel(file_url, engine='openpyxl')"
      ],
      "metadata": {
        "id": "i6iJIdtk1sjM"
      },
      "execution_count": null,
      "outputs": []
    },
    {
      "cell_type": "markdown",
      "source": [
        "## data preprocessing"
      ],
      "metadata": {
        "id": "e_XSqf7M5JTg"
      }
    },
    {
      "cell_type": "code",
      "source": [
        "df = raw_df[['발간처','자료명', '발간일','요약']].sort_values('발간일').reset_index(drop=True)\n",
        "\n",
        "# 날짜 형식을 datetime 형식으로 변환하는 함수\n",
        "def convert_to_datetime(date_str):\n",
        "    # 'yyyy.mm.' 형식인 경우\n",
        "    if len(date_str) == 8 and date_str[-1] == '.':\n",
        "        date_str += '01'\n",
        "    # 'yyyy.mm.dd' 형식이 아니거나, 잘못된 형식인 경우 None 반환\n",
        "    elif len(date_str) != 10 or not date_str.replace('.', '').isdigit():\n",
        "        return None\n",
        "\n",
        "    # 유효하지 않은 일자 확인 및 수정\n",
        "    try:\n",
        "        date = pd.to_datetime(date_str, format='%Y.%m.%d', errors='raise')\n",
        "        # 유효하지 않은 월이나 일을 가진 경우 None 반환\n",
        "        if date.month == 0 or date.day == 0:\n",
        "            return None\n",
        "    except ValueError:\n",
        "        # 잘못된 날짜는 'yyyy.mm.01'로 수정\n",
        "        date_str = date_str[:8] + '01'\n",
        "        try:\n",
        "            date = pd.to_datetime(date_str, format='%Y.%m.%d')\n",
        "        except ValueError:\n",
        "            return None\n",
        "    return date\n",
        "\n",
        "# '발간일' 컬럼을 datetime 형식으로 변환\n",
        "df['발간일'] = df['발간일'].apply(convert_to_datetime)"
      ],
      "metadata": {
        "id": "zi2agS0b3PMK"
      },
      "execution_count": null,
      "outputs": []
    },
    {
      "cell_type": "markdown",
      "source": [
        "## PLOT\n",
        "\n",
        "아래 코드를 실행하면, 밑에 입력 칸이 나옵니다.\n",
        "\n",
        "포함 단어에 추이를 알고 싶은 키워드를 입력해주세요.\n",
        "\n",
        "여러 단어일 경우에는 콤마(,)로 구분해주세요.\n",
        "(예시: 저출산, 저출생)"
      ],
      "metadata": {
        "id": "uCMIYAOH5mrZ"
      }
    },
    {
      "cell_type": "code",
      "source": [
        "# 키워드 입력 위젯\n",
        "keywords_widget = widgets.Text(\n",
        "    value='단어를 입력하세요',\n",
        "    description=\"포함 단어:\",\n",
        "    style={'description_width': 'initial'}\n",
        ")\n",
        "\n",
        "# 날짜 범위 입력 위젯\n",
        "start_date_widget = widgets.Text(\n",
        "    value='1996-01-01',\n",
        "    description=\"시작날짜(yyyy-mm-dd):\",\n",
        "    style={'description_width': 'initial'}\n",
        ")\n",
        "end_date_widget = widgets.Text(\n",
        "    value='2024-05-31',\n",
        "    description='끝날짜(yyyy-mm-dd):',\n",
        "    style={'description_width': 'initial'}\n",
        ")\n",
        "\n",
        "# 집계 기간 선택 위젯\n",
        "period_widget = widgets.Dropdown(\n",
        "    options=['daily', 'monthly', 'annually'],\n",
        "    value='monthly',\n",
        "    description='기간:',\n",
        "    style={'description_width': 'initial'}\n",
        ")\n",
        "\n",
        "# 요약/제목 선택 위젯\n",
        "from_summary_widget = widgets.Dropdown(\n",
        "    options=['요약','제목'],\n",
        "    value='요약',\n",
        "    description='텍스트 출처:',\n",
        "    style={'description_width': 'initial'}\n",
        ")\n",
        "\n",
        "# 출력 영역\n",
        "output = widgets.Output()\n",
        "\n",
        "# 위젯 디스플레이\n",
        "display(keywords_widget, start_date_widget, end_date_widget, period_widget, from_summary_widget)\n",
        "\n",
        "# 함수 정의 및 실행\n",
        "def contains_keyword(text, keywords):\n",
        "    if isinstance(text, str):\n",
        "        return int(any(keyword in text for keyword in keywords))\n",
        "    return 0\n",
        "\n",
        "def count_by_period(data, period, from_summary='요약', start_date='1996-01-01', end_date='2024-05-31'):\n",
        "    data = data[(data['발간일'] >= start_date) & (data['발간일'] <= end_date)]\n",
        "    if from_summary == '요약':\n",
        "        keyword_col = '포함_요약'\n",
        "    elif from_summary == '제목':\n",
        "        keyword_col = '포함_제목'\n",
        "\n",
        "    if period == 'daily':\n",
        "        counts = data.groupby(data['발간일'].dt.date)[keyword_col].agg(['count', 'sum'])\n",
        "    elif period == 'monthly':\n",
        "        counts = data.groupby(data['발간일'].dt.to_period('M'))[keyword_col].agg(['count', 'sum'])\n",
        "    elif period == 'annually':\n",
        "        counts = data.groupby(data['발간일'].dt.to_period('Y'))[keyword_col].agg(['count', 'sum'])\n",
        "    else:\n",
        "        raise ValueError(\"Invalid period. Choose from 'daily', 'monthly', or 'annually'.\")\n",
        "\n",
        "    counts.columns = ['total_count', 'keyword_count']\n",
        "    return counts['keyword_count']\n",
        "\n",
        "def on_button_click(b):\n",
        "    with output:\n",
        "        output.clear_output()\n",
        "\n",
        "        # 입력 값 가져오기\n",
        "        keywords = keywords_widget.value.split(',')\n",
        "        keywords = [kw.strip() for kw in keywords]\n",
        "        start_date = start_date_widget.value\n",
        "        end_date = end_date_widget.value\n",
        "        period = period_widget.value\n",
        "        from_summary = from_summary_widget.value\n",
        "\n",
        "        # 데이터 전처리\n",
        "        df['포함_요약'] = df['요약'].apply(lambda x: contains_keyword(x, keywords))\n",
        "        df['포함_제목'] = df['자료명'].apply(lambda x: contains_keyword(x, keywords))\n",
        "\n",
        "        # 결과 계산 및 시각화\n",
        "        result = count_by_period(df, period=period, from_summary=from_summary, start_date=start_date, end_date=end_date)\n",
        "\n",
        "        plt.figure(figsize=(16, 6))\n",
        "        result.plot()\n",
        "        plt.title(f'{period} Keywords Plot')\n",
        "        plt.xlabel('Date')\n",
        "        plt.ylabel('Counts')\n",
        "        plt.show()\n",
        "\n",
        "        print(f\"포함 단어(또는): {keywords}\")\n",
        "\n",
        "# 버튼 생성\n",
        "button = widgets.Button(\n",
        "    description='그리기',\n",
        "    disabled=False,\n",
        "    button_style='info',\n",
        "    tooltip='누르면 그래프가 그려집니다.',\n",
        ")\n",
        "\n",
        "button.on_click(on_button_click)\n",
        "\n",
        "# 버튼 디스플레이\n",
        "display(button, output)"
      ],
      "metadata": {
        "colab": {
          "base_uri": "https://localhost:8080/",
          "height": 768,
          "referenced_widgets": [
            "8ec1c87037764b6f9a8b9c9d696a6f06",
            "7a9e05c83c244bc4896a863d728fe5f1",
            "c7c6b2258c324640ba11e4cc4b527cd4",
            "c0be5dd994444ad9b937b75d6d2c9c48",
            "24b51cc3bd624768963e5ddcba27aa56",
            "60e3023ccf7545a09589f1c1bbf2f3ff",
            "c8890b8e5a364f99b0b8b0883aee955e",
            "5a35d71a51004077912d48a33e8f8faa",
            "d7f31107e77b49fd8b74fca06be194d0",
            "3650255e7dec4795b7710c569b5076f9",
            "62e42a423f3c4b0ea1054d30b9ff0bc1",
            "75cf5f13a19e4b9fb006a21bb31c0d1b",
            "2c5f0631a0544839a26b3f7e40f9a47c",
            "8c489998d1a04a1abc14b0cdca8031e8",
            "43be413b4c3246c99081be3dbac19e34",
            "1e1d3315860145fc87bc682d5423a4f5",
            "ff4c984964d34521951b962cfebc5062",
            "c6cbb32cfb7d489d95af81320d875a9c",
            "88afaf6cd97c40d99fc2bed32aae6c9b",
            "c245be9694e849b89350fd2d6eb43e60"
          ]
        },
        "id": "kENwJGiW6MHF",
        "outputId": "95e04caa-a384-480f-c73a-0f1c44b640d9"
      },
      "execution_count": null,
      "outputs": [
        {
          "output_type": "display_data",
          "data": {
            "text/plain": [
              "Text(value='단어를 입력하세요', description='포함 단어:', style=DescriptionStyle(description_width='initial'))"
            ],
            "application/vnd.jupyter.widget-view+json": {
              "version_major": 2,
              "version_minor": 0,
              "model_id": "8ec1c87037764b6f9a8b9c9d696a6f06"
            }
          },
          "metadata": {}
        },
        {
          "output_type": "display_data",
          "data": {
            "text/plain": [
              "Text(value='1996-01-01', description='시작날짜(yyyy-mm-dd):', style=DescriptionStyle(description_width='initial'))"
            ],
            "application/vnd.jupyter.widget-view+json": {
              "version_major": 2,
              "version_minor": 0,
              "model_id": "c0be5dd994444ad9b937b75d6d2c9c48"
            }
          },
          "metadata": {}
        },
        {
          "output_type": "display_data",
          "data": {
            "text/plain": [
              "Text(value='2024-05-31', description='끝날짜(yyyy-mm-dd):', style=DescriptionStyle(description_width='initial'))"
            ],
            "application/vnd.jupyter.widget-view+json": {
              "version_major": 2,
              "version_minor": 0,
              "model_id": "c8890b8e5a364f99b0b8b0883aee955e"
            }
          },
          "metadata": {}
        },
        {
          "output_type": "display_data",
          "data": {
            "text/plain": [
              "Dropdown(description='기간:', index=1, options=('daily', 'monthly', 'annually'), style=DescriptionStyle(descript…"
            ],
            "application/vnd.jupyter.widget-view+json": {
              "version_major": 2,
              "version_minor": 0,
              "model_id": "3650255e7dec4795b7710c569b5076f9"
            }
          },
          "metadata": {}
        },
        {
          "output_type": "display_data",
          "data": {
            "text/plain": [
              "Dropdown(description='텍스트 출처:', options=('요약', '제목'), style=DescriptionStyle(description_width='initial'), val…"
            ],
            "application/vnd.jupyter.widget-view+json": {
              "version_major": 2,
              "version_minor": 0,
              "model_id": "2c5f0631a0544839a26b3f7e40f9a47c"
            }
          },
          "metadata": {}
        },
        {
          "output_type": "display_data",
          "data": {
            "text/plain": [
              "Button(button_style='info', description='그리기', style=ButtonStyle(), tooltip='누르면 그래프가 그려집니다.')"
            ],
            "application/vnd.jupyter.widget-view+json": {
              "version_major": 2,
              "version_minor": 0,
              "model_id": "1e1d3315860145fc87bc682d5423a4f5"
            }
          },
          "metadata": {}
        },
        {
          "output_type": "display_data",
          "data": {
            "text/plain": [
              "Output()"
            ],
            "application/vnd.jupyter.widget-view+json": {
              "version_major": 2,
              "version_minor": 0,
              "model_id": "88afaf6cd97c40d99fc2bed32aae6c9b"
            }
          },
          "metadata": {}
        }
      ]
    },
    {
      "cell_type": "code",
      "source": [],
      "metadata": {
        "id": "ACcH1G1Sfwlf"
      },
      "execution_count": null,
      "outputs": []
    }
  ]
}