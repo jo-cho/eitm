{
 "cells": [
  {
   "cell_type": "markdown",
   "metadata": {
    "id": "tHTcu03u1uJ2"
   },
   "source": [
    "# Made BY JO-CHO\n",
    "\n",
    "for Colab"
   ]
  },
  {
   "cell_type": "markdown",
   "metadata": {
    "id": "-rrvjFLa1zd6"
   },
   "source": [
    "## import"
   ]
  },
  {
   "cell_type": "code",
   "execution_count": 36,
   "metadata": {
    "id": "9kgQO8XR1j7C"
   },
   "outputs": [],
   "source": [
    "# Made BY JO-CHO\n",
    "import pandas as pd\n",
    "import numpy as np\n",
    "import matplotlib.pyplot as plt\n",
    "from matplotlib import font_manager, rc\n",
    "from collections import Counter\n",
    "import ipywidgets as widgets\n",
    "from IPython.display import display\n",
    "import warnings\n",
    "warnings.filterwarnings('ignore')"
   ]
  },
  {
   "cell_type": "markdown",
   "metadata": {
    "id": "rfPSPEXx1_JN"
   },
   "source": [
    "## load file"
   ]
  },
  {
   "cell_type": "code",
   "execution_count": 23,
   "metadata": {
    "id": "i6iJIdtk1sjM"
   },
   "outputs": [],
   "source": [
    "file_url = \"https://github.com/jo-cho/eitm/raw/main/data/epic_data.xlsx\"\n",
    "raw_df = pd.read_excel(file_url, engine='openpyxl')"
   ]
  },
  {
   "cell_type": "markdown",
   "metadata": {
    "id": "e_XSqf7M5JTg"
   },
   "source": [
    "## preprocessing"
   ]
  },
  {
   "cell_type": "code",
   "execution_count": 37,
   "metadata": {
    "id": "zi2agS0b3PMK"
   },
   "outputs": [],
   "source": [
    "df = raw_df[['발간처','자료명', '발간일','요약']].sort_values('발간일').reset_index(drop=True)\n",
    "\n",
    "# 날짜 형식을 datetime 형식으로 변환하는 함수\n",
    "def convert_to_datetime(date_str):\n",
    "    # 'yyyy.mm.' 형식인 경우\n",
    "    if len(date_str) == 8 and date_str[-1] == '.':\n",
    "        date_str += '01'\n",
    "    # 'yyyy.mm.dd' 형식이 아니거나, 잘못된 형식인 경우 None 반환\n",
    "    elif len(date_str) != 10 or not date_str.replace('.', '').isdigit():\n",
    "        return None\n",
    "\n",
    "    # 유효하지 않은 일자 확인 및 수정\n",
    "    try:\n",
    "        date = pd.to_datetime(date_str, format='%Y.%m.%d', errors='raise')\n",
    "        # 유효하지 않은 월이나 일을 가진 경우 None 반환\n",
    "        if date.month == 0 or date.day == 0:\n",
    "            return None\n",
    "    except ValueError:\n",
    "        # 잘못된 날짜는 'yyyy.mm.01'로 수정\n",
    "        date_str = date_str[:8] + '01'\n",
    "        try:\n",
    "            date = pd.to_datetime(date_str, format='%Y.%m.%d')\n",
    "        except ValueError:\n",
    "            return None\n",
    "    return date\n",
    "\n",
    "# '발간일' 컬럼을 datetime 형식으로 변환\n",
    "df['발간일'] = df['발간일'].apply(convert_to_datetime)"
   ]
  },
  {
   "cell_type": "markdown",
   "metadata": {
    "id": "uCMIYAOH5mrZ"
   },
   "source": [
    "## PLOT"
   ]
  },
  {
   "cell_type": "code",
   "execution_count": 40,
   "metadata": {
    "colab": {
     "base_uri": "https://localhost:8080/",
     "height": 203,
     "referenced_widgets": [
      "7ac52b8161c94c8eb084151181606cb7",
      "2f9ba5d94c2541f4b99566a725584eca",
      "dbbe08d767d743009060e48be72aafe7",
      "f5ce0da932264784982761cf17be0a6c",
      "1aa9ec3e2d1740358f8af4ae632a9a2f",
      "ede245eaaf7c41c0992d39c2319b4a9a",
      "968d1cfc61d6462a8f0b29eaa606d60e",
      "6b470fc899be407fb5231ce893ec4eb7",
      "11d12dbd96f84c2eb67fa7aba58efb9a",
      "f11cab78728440faa7a8aac82c8ea696",
      "0e676c43e5234ffbb70b95cf8da38d28",
      "acff16e3c38e44b59cfb783dd29cebeb",
      "434e35ef77a94580bccf5da9233cca19",
      "13a160fb47db4ec599f02f23764e3170",
      "f0c4f57d75264b1a9576499d5d48a726",
      "b46cfe2734764083a13e66a329efa49a",
      "a9545fba67784612afa53e6dc481448c",
      "8cd3a24901ec41f989a6ee9196f83c11",
      "81b4318ffd00488a8bd7b7e6753676bc",
      "44892827bff64e5db84604489df125f1"
     ]
    },
    "id": "kENwJGiW6MHF",
    "outputId": "7dda8970-e527-4fc2-cebc-c3c8a6526636"
   },
   "outputs": [
    {
     "data": {
      "application/vnd.jupyter.widget-view+json": {
       "model_id": "7ac52b8161c94c8eb084151181606cb7",
       "version_major": 2,
       "version_minor": 0
      },
      "text/plain": [
       "Text(value='단어를 입력하세요', description='포함 단어:', style=DescriptionStyle(description_width='initial'))"
      ]
     },
     "metadata": {},
     "output_type": "display_data"
    },
    {
     "data": {
      "application/vnd.jupyter.widget-view+json": {
       "model_id": "f5ce0da932264784982761cf17be0a6c",
       "version_major": 2,
       "version_minor": 0
      },
      "text/plain": [
       "Text(value='1996-01-01', description='시작날짜(yyyy-mm-dd):', style=DescriptionStyle(description_width='initial'))"
      ]
     },
     "metadata": {},
     "output_type": "display_data"
    },
    {
     "data": {
      "application/vnd.jupyter.widget-view+json": {
       "model_id": "968d1cfc61d6462a8f0b29eaa606d60e",
       "version_major": 2,
       "version_minor": 0
      },
      "text/plain": [
       "Text(value='2024-05-31', description='끝날짜(yyyy-mm-dd):', style=DescriptionStyle(description_width='initial'))"
      ]
     },
     "metadata": {},
     "output_type": "display_data"
    },
    {
     "data": {
      "application/vnd.jupyter.widget-view+json": {
       "model_id": "f11cab78728440faa7a8aac82c8ea696",
       "version_major": 2,
       "version_minor": 0
      },
      "text/plain": [
       "Dropdown(description='기간:', index=1, options=('daily', 'monthly', 'annually'), style=DescriptionStyle(descript…"
      ]
     },
     "metadata": {},
     "output_type": "display_data"
    },
    {
     "data": {
      "application/vnd.jupyter.widget-view+json": {
       "model_id": "434e35ef77a94580bccf5da9233cca19",
       "version_major": 2,
       "version_minor": 0
      },
      "text/plain": [
       "Dropdown(description='요약/제목', options=('요약', '제목'), style=DescriptionStyle(description_width='initial'), value…"
      ]
     },
     "metadata": {},
     "output_type": "display_data"
    },
    {
     "data": {
      "application/vnd.jupyter.widget-view+json": {
       "model_id": "b46cfe2734764083a13e66a329efa49a",
       "version_major": 2,
       "version_minor": 0
      },
      "text/plain": [
       "Button(button_style='info', description='그리기', style=ButtonStyle(), tooltip='누르면 그래프가 그려집니다.')"
      ]
     },
     "metadata": {},
     "output_type": "display_data"
    },
    {
     "data": {
      "application/vnd.jupyter.widget-view+json": {
       "model_id": "81b4318ffd00488a8bd7b7e6753676bc",
       "version_major": 2,
       "version_minor": 0
      },
      "text/plain": [
       "Output()"
      ]
     },
     "metadata": {},
     "output_type": "display_data"
    }
   ],
   "source": [
    "# 키워드 입력 위젯\n",
    "keywords_widget = widgets.Text(\n",
    "    value='단어를 입력하세요',\n",
    "    description=\"포함 단어:\",\n",
    "    style={'description_width': 'initial'}\n",
    ")\n",
    "\n",
    "# 날짜 범위 입력 위젯\n",
    "start_date_widget = widgets.Text(\n",
    "    value='1996-01-01',\n",
    "    description=\"시작날짜(yyyy-mm-dd):\",\n",
    "    style={'description_width': 'initial'}\n",
    ")\n",
    "end_date_widget = widgets.Text(\n",
    "    value='2024-05-31',\n",
    "    description='끝날짜(yyyy-mm-dd):',\n",
    "    style={'description_width': 'initial'}\n",
    ")\n",
    "\n",
    "# 집계 기간 선택 위젯\n",
    "period_widget = widgets.Dropdown(\n",
    "    options=['daily', 'monthly', 'annually'],\n",
    "    value='monthly',\n",
    "    description='기간:',\n",
    "    style={'description_width': 'initial'}\n",
    ")\n",
    "\n",
    "# 요약/제목 선택 위젯\n",
    "from_summary_widget = widgets.Dropdown(\n",
    "    options=['요약','제목'],\n",
    "    value='요약',\n",
    "    description='요약/제목',\n",
    "    style={'description_width': 'initial'}\n",
    ")\n",
    "\n",
    "# 출력 영역\n",
    "output = widgets.Output()\n",
    "\n",
    "# 위젯 디스플레이\n",
    "display(keywords_widget, start_date_widget, end_date_widget, period_widget, from_summary_widget)\n",
    "\n",
    "# 함수 정의 및 실행\n",
    "def contains_keyword(text, keywords):\n",
    "    if isinstance(text, str):\n",
    "        return int(any(keyword in text for keyword in keywords))\n",
    "    return 0\n",
    "\n",
    "def count_by_period(data, period, from_summary='요약', start_date='1996-01-01', end_date='2024-05-31'):\n",
    "    data = data[(data['발간일'] >= start_date) & (data['발간일'] <= end_date)]\n",
    "    if from_summary == '요약':\n",
    "        keyword_col = '포함_요약'\n",
    "    elif from_summary == '제목':\n",
    "        keyword_col = '포함_제목'\n",
    "\n",
    "    if period == 'daily':\n",
    "        counts = data.groupby(data['발간일'].dt.date)[keyword_col].agg(['count', 'sum'])\n",
    "    elif period == 'monthly':\n",
    "        counts = data.groupby(data['발간일'].dt.to_period('M'))[keyword_col].agg(['count', 'sum'])\n",
    "    elif period == 'annually':\n",
    "        counts = data.groupby(data['발간일'].dt.to_period('Y'))[keyword_col].agg(['count', 'sum'])\n",
    "    else:\n",
    "        raise ValueError(\"Invalid period. Choose from 'daily', 'monthly', or 'annually'.\")\n",
    "\n",
    "    counts.columns = ['total_count', 'keyword_count']\n",
    "    return counts['keyword_count']\n",
    "\n",
    "def on_button_click(b):\n",
    "    with output:\n",
    "        output.clear_output()\n",
    "\n",
    "        # 입력 값 가져오기\n",
    "        keywords = keywords_widget.value.split(',')\n",
    "        keywords = [kw.strip() for kw in keywords]\n",
    "        start_date = start_date_widget.value\n",
    "        end_date = end_date_widget.value\n",
    "        period = period_widget.value\n",
    "        from_summary = from_summary_widget.value\n",
    "\n",
    "        # 데이터 전처리\n",
    "        df['포함_요약'] = df['요약'].apply(lambda x: contains_keyword(x, keywords))\n",
    "        df['포함_제목'] = df['자료명'].apply(lambda x: contains_keyword(x, keywords))\n",
    "\n",
    "        # 결과 계산 및 시각화\n",
    "        result = count_by_period(df, period=period, from_summary=from_summary, start_date=start_date, end_date=end_date)\n",
    "\n",
    "        plt.figure(figsize=(16, 6))\n",
    "        result.plot()\n",
    "        plt.title(f'{period} Keywords Plot')\n",
    "        plt.xlabel('Date')\n",
    "        plt.ylabel('Counts')\n",
    "        plt.show()\n",
    "\n",
    "        print(f\"포함 단어: {keywords}\")\n",
    "\n",
    "# 버튼 생성\n",
    "button = widgets.Button(\n",
    "    description='그리기',\n",
    "    disabled=False,\n",
    "    button_style='info',\n",
    "    tooltip='누르면 그래프가 그려집니다.',\n",
    ")\n",
    "\n",
    "button.on_click(on_button_click)\n",
    "\n",
    "# 버튼 디스플레이\n",
    "display(button, output)"
   ]
  },
  {
   "cell_type": "code",
   "execution_count": null,
   "metadata": {
    "id": "Sw-NRqrnBWk9"
   },
   "outputs": [],
   "source": []
  }
 ],
 "metadata": {
  "colab": {
   "collapsed_sections": [
    "-rrvjFLa1zd6",
    "rfPSPEXx1_JN",
    "e_XSqf7M5JTg"
   ],
   "provenance": []
  },
  "kernelspec": {
   "display_name": "Python 3",
   "language": "python",
   "name": "python3"
  },
  "language_info": {
   "codemirror_mode": {
    "name": "ipython",
    "version": 3
   },
   "file_extension": ".py",
   "mimetype": "text/x-python",
   "name": "python",
   "nbconvert_exporter": "python",
   "pygments_lexer": "ipython3",
   "version": "3.8.0"
  },
  "widgets": {
   "application/vnd.jupyter.widget-state+json": {
    "0e676c43e5234ffbb70b95cf8da38d28": {
     "model_module": "@jupyter-widgets/base",
     "model_module_version": "1.2.0",
     "model_name": "LayoutModel",
     "state": {
      "_model_module": "@jupyter-widgets/base",
      "_model_module_version": "1.2.0",
      "_model_name": "LayoutModel",
      "_view_count": null,
      "_view_module": "@jupyter-widgets/base",
      "_view_module_version": "1.2.0",
      "_view_name": "LayoutView",
      "align_content": null,
      "align_items": null,
      "align_self": null,
      "border": null,
      "bottom": null,
      "display": null,
      "flex": null,
      "flex_flow": null,
      "grid_area": null,
      "grid_auto_columns": null,
      "grid_auto_flow": null,
      "grid_auto_rows": null,
      "grid_column": null,
      "grid_gap": null,
      "grid_row": null,
      "grid_template_areas": null,
      "grid_template_columns": null,
      "grid_template_rows": null,
      "height": null,
      "justify_content": null,
      "justify_items": null,
      "left": null,
      "margin": null,
      "max_height": null,
      "max_width": null,
      "min_height": null,
      "min_width": null,
      "object_fit": null,
      "object_position": null,
      "order": null,
      "overflow": null,
      "overflow_x": null,
      "overflow_y": null,
      "padding": null,
      "right": null,
      "top": null,
      "visibility": null,
      "width": null
     }
    },
    "11d12dbd96f84c2eb67fa7aba58efb9a": {
     "model_module": "@jupyter-widgets/controls",
     "model_module_version": "1.5.0",
     "model_name": "DescriptionStyleModel",
     "state": {
      "_model_module": "@jupyter-widgets/controls",
      "_model_module_version": "1.5.0",
      "_model_name": "DescriptionStyleModel",
      "_view_count": null,
      "_view_module": "@jupyter-widgets/base",
      "_view_module_version": "1.2.0",
      "_view_name": "StyleView",
      "description_width": "initial"
     }
    },
    "13a160fb47db4ec599f02f23764e3170": {
     "model_module": "@jupyter-widgets/base",
     "model_module_version": "1.2.0",
     "model_name": "LayoutModel",
     "state": {
      "_model_module": "@jupyter-widgets/base",
      "_model_module_version": "1.2.0",
      "_model_name": "LayoutModel",
      "_view_count": null,
      "_view_module": "@jupyter-widgets/base",
      "_view_module_version": "1.2.0",
      "_view_name": "LayoutView",
      "align_content": null,
      "align_items": null,
      "align_self": null,
      "border": null,
      "bottom": null,
      "display": null,
      "flex": null,
      "flex_flow": null,
      "grid_area": null,
      "grid_auto_columns": null,
      "grid_auto_flow": null,
      "grid_auto_rows": null,
      "grid_column": null,
      "grid_gap": null,
      "grid_row": null,
      "grid_template_areas": null,
      "grid_template_columns": null,
      "grid_template_rows": null,
      "height": null,
      "justify_content": null,
      "justify_items": null,
      "left": null,
      "margin": null,
      "max_height": null,
      "max_width": null,
      "min_height": null,
      "min_width": null,
      "object_fit": null,
      "object_position": null,
      "order": null,
      "overflow": null,
      "overflow_x": null,
      "overflow_y": null,
      "padding": null,
      "right": null,
      "top": null,
      "visibility": null,
      "width": null
     }
    },
    "1aa9ec3e2d1740358f8af4ae632a9a2f": {
     "model_module": "@jupyter-widgets/base",
     "model_module_version": "1.2.0",
     "model_name": "LayoutModel",
     "state": {
      "_model_module": "@jupyter-widgets/base",
      "_model_module_version": "1.2.0",
      "_model_name": "LayoutModel",
      "_view_count": null,
      "_view_module": "@jupyter-widgets/base",
      "_view_module_version": "1.2.0",
      "_view_name": "LayoutView",
      "align_content": null,
      "align_items": null,
      "align_self": null,
      "border": null,
      "bottom": null,
      "display": null,
      "flex": null,
      "flex_flow": null,
      "grid_area": null,
      "grid_auto_columns": null,
      "grid_auto_flow": null,
      "grid_auto_rows": null,
      "grid_column": null,
      "grid_gap": null,
      "grid_row": null,
      "grid_template_areas": null,
      "grid_template_columns": null,
      "grid_template_rows": null,
      "height": null,
      "justify_content": null,
      "justify_items": null,
      "left": null,
      "margin": null,
      "max_height": null,
      "max_width": null,
      "min_height": null,
      "min_width": null,
      "object_fit": null,
      "object_position": null,
      "order": null,
      "overflow": null,
      "overflow_x": null,
      "overflow_y": null,
      "padding": null,
      "right": null,
      "top": null,
      "visibility": null,
      "width": null
     }
    },
    "2f9ba5d94c2541f4b99566a725584eca": {
     "model_module": "@jupyter-widgets/base",
     "model_module_version": "1.2.0",
     "model_name": "LayoutModel",
     "state": {
      "_model_module": "@jupyter-widgets/base",
      "_model_module_version": "1.2.0",
      "_model_name": "LayoutModel",
      "_view_count": null,
      "_view_module": "@jupyter-widgets/base",
      "_view_module_version": "1.2.0",
      "_view_name": "LayoutView",
      "align_content": null,
      "align_items": null,
      "align_self": null,
      "border": null,
      "bottom": null,
      "display": null,
      "flex": null,
      "flex_flow": null,
      "grid_area": null,
      "grid_auto_columns": null,
      "grid_auto_flow": null,
      "grid_auto_rows": null,
      "grid_column": null,
      "grid_gap": null,
      "grid_row": null,
      "grid_template_areas": null,
      "grid_template_columns": null,
      "grid_template_rows": null,
      "height": null,
      "justify_content": null,
      "justify_items": null,
      "left": null,
      "margin": null,
      "max_height": null,
      "max_width": null,
      "min_height": null,
      "min_width": null,
      "object_fit": null,
      "object_position": null,
      "order": null,
      "overflow": null,
      "overflow_x": null,
      "overflow_y": null,
      "padding": null,
      "right": null,
      "top": null,
      "visibility": null,
      "width": null
     }
    },
    "434e35ef77a94580bccf5da9233cca19": {
     "model_module": "@jupyter-widgets/controls",
     "model_module_version": "1.5.0",
     "model_name": "DropdownModel",
     "state": {
      "_dom_classes": [],
      "_model_module": "@jupyter-widgets/controls",
      "_model_module_version": "1.5.0",
      "_model_name": "DropdownModel",
      "_options_labels": [
       "요약",
       "제목"
      ],
      "_view_count": null,
      "_view_module": "@jupyter-widgets/controls",
      "_view_module_version": "1.5.0",
      "_view_name": "DropdownView",
      "description": "요약/제목",
      "description_tooltip": null,
      "disabled": false,
      "index": 0,
      "layout": "IPY_MODEL_13a160fb47db4ec599f02f23764e3170",
      "style": "IPY_MODEL_f0c4f57d75264b1a9576499d5d48a726"
     }
    },
    "44892827bff64e5db84604489df125f1": {
     "model_module": "@jupyter-widgets/base",
     "model_module_version": "1.2.0",
     "model_name": "LayoutModel",
     "state": {
      "_model_module": "@jupyter-widgets/base",
      "_model_module_version": "1.2.0",
      "_model_name": "LayoutModel",
      "_view_count": null,
      "_view_module": "@jupyter-widgets/base",
      "_view_module_version": "1.2.0",
      "_view_name": "LayoutView",
      "align_content": null,
      "align_items": null,
      "align_self": null,
      "border": null,
      "bottom": null,
      "display": null,
      "flex": null,
      "flex_flow": null,
      "grid_area": null,
      "grid_auto_columns": null,
      "grid_auto_flow": null,
      "grid_auto_rows": null,
      "grid_column": null,
      "grid_gap": null,
      "grid_row": null,
      "grid_template_areas": null,
      "grid_template_columns": null,
      "grid_template_rows": null,
      "height": null,
      "justify_content": null,
      "justify_items": null,
      "left": null,
      "margin": null,
      "max_height": null,
      "max_width": null,
      "min_height": null,
      "min_width": null,
      "object_fit": null,
      "object_position": null,
      "order": null,
      "overflow": null,
      "overflow_x": null,
      "overflow_y": null,
      "padding": null,
      "right": null,
      "top": null,
      "visibility": null,
      "width": null
     }
    },
    "6b470fc899be407fb5231ce893ec4eb7": {
     "model_module": "@jupyter-widgets/base",
     "model_module_version": "1.2.0",
     "model_name": "LayoutModel",
     "state": {
      "_model_module": "@jupyter-widgets/base",
      "_model_module_version": "1.2.0",
      "_model_name": "LayoutModel",
      "_view_count": null,
      "_view_module": "@jupyter-widgets/base",
      "_view_module_version": "1.2.0",
      "_view_name": "LayoutView",
      "align_content": null,
      "align_items": null,
      "align_self": null,
      "border": null,
      "bottom": null,
      "display": null,
      "flex": null,
      "flex_flow": null,
      "grid_area": null,
      "grid_auto_columns": null,
      "grid_auto_flow": null,
      "grid_auto_rows": null,
      "grid_column": null,
      "grid_gap": null,
      "grid_row": null,
      "grid_template_areas": null,
      "grid_template_columns": null,
      "grid_template_rows": null,
      "height": null,
      "justify_content": null,
      "justify_items": null,
      "left": null,
      "margin": null,
      "max_height": null,
      "max_width": null,
      "min_height": null,
      "min_width": null,
      "object_fit": null,
      "object_position": null,
      "order": null,
      "overflow": null,
      "overflow_x": null,
      "overflow_y": null,
      "padding": null,
      "right": null,
      "top": null,
      "visibility": null,
      "width": null
     }
    },
    "7ac52b8161c94c8eb084151181606cb7": {
     "model_module": "@jupyter-widgets/controls",
     "model_module_version": "1.5.0",
     "model_name": "TextModel",
     "state": {
      "_dom_classes": [],
      "_model_module": "@jupyter-widgets/controls",
      "_model_module_version": "1.5.0",
      "_model_name": "TextModel",
      "_view_count": null,
      "_view_module": "@jupyter-widgets/controls",
      "_view_module_version": "1.5.0",
      "_view_name": "TextView",
      "continuous_update": true,
      "description": "포함 단어:",
      "description_tooltip": null,
      "disabled": false,
      "layout": "IPY_MODEL_2f9ba5d94c2541f4b99566a725584eca",
      "placeholder": "​",
      "style": "IPY_MODEL_dbbe08d767d743009060e48be72aafe7",
      "value": "단어를 입력하세요"
     }
    },
    "81b4318ffd00488a8bd7b7e6753676bc": {
     "model_module": "@jupyter-widgets/output",
     "model_module_version": "1.0.0",
     "model_name": "OutputModel",
     "state": {
      "_dom_classes": [],
      "_model_module": "@jupyter-widgets/output",
      "_model_module_version": "1.0.0",
      "_model_name": "OutputModel",
      "_view_count": null,
      "_view_module": "@jupyter-widgets/output",
      "_view_module_version": "1.0.0",
      "_view_name": "OutputView",
      "layout": "IPY_MODEL_44892827bff64e5db84604489df125f1",
      "msg_id": "",
      "outputs": []
     }
    },
    "8cd3a24901ec41f989a6ee9196f83c11": {
     "model_module": "@jupyter-widgets/controls",
     "model_module_version": "1.5.0",
     "model_name": "ButtonStyleModel",
     "state": {
      "_model_module": "@jupyter-widgets/controls",
      "_model_module_version": "1.5.0",
      "_model_name": "ButtonStyleModel",
      "_view_count": null,
      "_view_module": "@jupyter-widgets/base",
      "_view_module_version": "1.2.0",
      "_view_name": "StyleView",
      "button_color": null,
      "font_weight": ""
     }
    },
    "968d1cfc61d6462a8f0b29eaa606d60e": {
     "model_module": "@jupyter-widgets/controls",
     "model_module_version": "1.5.0",
     "model_name": "TextModel",
     "state": {
      "_dom_classes": [],
      "_model_module": "@jupyter-widgets/controls",
      "_model_module_version": "1.5.0",
      "_model_name": "TextModel",
      "_view_count": null,
      "_view_module": "@jupyter-widgets/controls",
      "_view_module_version": "1.5.0",
      "_view_name": "TextView",
      "continuous_update": true,
      "description": "끝날짜(yyyy-mm-dd):",
      "description_tooltip": null,
      "disabled": false,
      "layout": "IPY_MODEL_6b470fc899be407fb5231ce893ec4eb7",
      "placeholder": "​",
      "style": "IPY_MODEL_11d12dbd96f84c2eb67fa7aba58efb9a",
      "value": "2024-05-31"
     }
    },
    "a9545fba67784612afa53e6dc481448c": {
     "model_module": "@jupyter-widgets/base",
     "model_module_version": "1.2.0",
     "model_name": "LayoutModel",
     "state": {
      "_model_module": "@jupyter-widgets/base",
      "_model_module_version": "1.2.0",
      "_model_name": "LayoutModel",
      "_view_count": null,
      "_view_module": "@jupyter-widgets/base",
      "_view_module_version": "1.2.0",
      "_view_name": "LayoutView",
      "align_content": null,
      "align_items": null,
      "align_self": null,
      "border": null,
      "bottom": null,
      "display": null,
      "flex": null,
      "flex_flow": null,
      "grid_area": null,
      "grid_auto_columns": null,
      "grid_auto_flow": null,
      "grid_auto_rows": null,
      "grid_column": null,
      "grid_gap": null,
      "grid_row": null,
      "grid_template_areas": null,
      "grid_template_columns": null,
      "grid_template_rows": null,
      "height": null,
      "justify_content": null,
      "justify_items": null,
      "left": null,
      "margin": null,
      "max_height": null,
      "max_width": null,
      "min_height": null,
      "min_width": null,
      "object_fit": null,
      "object_position": null,
      "order": null,
      "overflow": null,
      "overflow_x": null,
      "overflow_y": null,
      "padding": null,
      "right": null,
      "top": null,
      "visibility": null,
      "width": null
     }
    },
    "acff16e3c38e44b59cfb783dd29cebeb": {
     "model_module": "@jupyter-widgets/controls",
     "model_module_version": "1.5.0",
     "model_name": "DescriptionStyleModel",
     "state": {
      "_model_module": "@jupyter-widgets/controls",
      "_model_module_version": "1.5.0",
      "_model_name": "DescriptionStyleModel",
      "_view_count": null,
      "_view_module": "@jupyter-widgets/base",
      "_view_module_version": "1.2.0",
      "_view_name": "StyleView",
      "description_width": "initial"
     }
    },
    "b46cfe2734764083a13e66a329efa49a": {
     "model_module": "@jupyter-widgets/controls",
     "model_module_version": "1.5.0",
     "model_name": "ButtonModel",
     "state": {
      "_dom_classes": [],
      "_model_module": "@jupyter-widgets/controls",
      "_model_module_version": "1.5.0",
      "_model_name": "ButtonModel",
      "_view_count": null,
      "_view_module": "@jupyter-widgets/controls",
      "_view_module_version": "1.5.0",
      "_view_name": "ButtonView",
      "button_style": "info",
      "description": "그리기",
      "disabled": false,
      "icon": "",
      "layout": "IPY_MODEL_a9545fba67784612afa53e6dc481448c",
      "style": "IPY_MODEL_8cd3a24901ec41f989a6ee9196f83c11",
      "tooltip": "누르면 그래프가 그려집니다."
     }
    },
    "dbbe08d767d743009060e48be72aafe7": {
     "model_module": "@jupyter-widgets/controls",
     "model_module_version": "1.5.0",
     "model_name": "DescriptionStyleModel",
     "state": {
      "_model_module": "@jupyter-widgets/controls",
      "_model_module_version": "1.5.0",
      "_model_name": "DescriptionStyleModel",
      "_view_count": null,
      "_view_module": "@jupyter-widgets/base",
      "_view_module_version": "1.2.0",
      "_view_name": "StyleView",
      "description_width": "initial"
     }
    },
    "ede245eaaf7c41c0992d39c2319b4a9a": {
     "model_module": "@jupyter-widgets/controls",
     "model_module_version": "1.5.0",
     "model_name": "DescriptionStyleModel",
     "state": {
      "_model_module": "@jupyter-widgets/controls",
      "_model_module_version": "1.5.0",
      "_model_name": "DescriptionStyleModel",
      "_view_count": null,
      "_view_module": "@jupyter-widgets/base",
      "_view_module_version": "1.2.0",
      "_view_name": "StyleView",
      "description_width": "initial"
     }
    },
    "f0c4f57d75264b1a9576499d5d48a726": {
     "model_module": "@jupyter-widgets/controls",
     "model_module_version": "1.5.0",
     "model_name": "DescriptionStyleModel",
     "state": {
      "_model_module": "@jupyter-widgets/controls",
      "_model_module_version": "1.5.0",
      "_model_name": "DescriptionStyleModel",
      "_view_count": null,
      "_view_module": "@jupyter-widgets/base",
      "_view_module_version": "1.2.0",
      "_view_name": "StyleView",
      "description_width": "initial"
     }
    },
    "f11cab78728440faa7a8aac82c8ea696": {
     "model_module": "@jupyter-widgets/controls",
     "model_module_version": "1.5.0",
     "model_name": "DropdownModel",
     "state": {
      "_dom_classes": [],
      "_model_module": "@jupyter-widgets/controls",
      "_model_module_version": "1.5.0",
      "_model_name": "DropdownModel",
      "_options_labels": [
       "daily",
       "monthly",
       "annually"
      ],
      "_view_count": null,
      "_view_module": "@jupyter-widgets/controls",
      "_view_module_version": "1.5.0",
      "_view_name": "DropdownView",
      "description": "기간:",
      "description_tooltip": null,
      "disabled": false,
      "index": 1,
      "layout": "IPY_MODEL_0e676c43e5234ffbb70b95cf8da38d28",
      "style": "IPY_MODEL_acff16e3c38e44b59cfb783dd29cebeb"
     }
    },
    "f5ce0da932264784982761cf17be0a6c": {
     "model_module": "@jupyter-widgets/controls",
     "model_module_version": "1.5.0",
     "model_name": "TextModel",
     "state": {
      "_dom_classes": [],
      "_model_module": "@jupyter-widgets/controls",
      "_model_module_version": "1.5.0",
      "_model_name": "TextModel",
      "_view_count": null,
      "_view_module": "@jupyter-widgets/controls",
      "_view_module_version": "1.5.0",
      "_view_name": "TextView",
      "continuous_update": true,
      "description": "시작날짜(yyyy-mm-dd):",
      "description_tooltip": null,
      "disabled": false,
      "layout": "IPY_MODEL_1aa9ec3e2d1740358f8af4ae632a9a2f",
      "placeholder": "​",
      "style": "IPY_MODEL_ede245eaaf7c41c0992d39c2319b4a9a",
      "value": "1996-01-01"
     }
    }
   }
  }
 },
 "nbformat": 4,
 "nbformat_minor": 4
}
