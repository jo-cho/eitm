{
  "nbformat": 4,
  "nbformat_minor": 0,
  "metadata": {
    "colab": {
      "provenance": [],
      "authorship_tag": "ABX9TyN75Y17OZs2CSfuLnQhXlU1",
      "include_colab_link": true
    },
    "kernelspec": {
      "name": "python3",
      "display_name": "Python 3"
    },
    "language_info": {
      "name": "python"
    },
    "widgets": {
      "application/vnd.jupyter.widget-state+json": {
        "9d92d63c47af4d12ac2bb6b1776fc138": {
          "model_module": "@jupyter-widgets/controls",
          "model_name": "TextModel",
          "model_module_version": "1.5.0",
          "state": {
            "_dom_classes": [],
            "_model_module": "@jupyter-widgets/controls",
            "_model_module_version": "1.5.0",
            "_model_name": "TextModel",
            "_view_count": null,
            "_view_module": "@jupyter-widgets/controls",
            "_view_module_version": "1.5.0",
            "_view_name": "TextView",
            "continuous_update": true,
            "description": "포함 단어:",
            "description_tooltip": null,
            "disabled": false,
            "layout": "IPY_MODEL_89b828afb0ae43f9a371d2d00bae74b1",
            "placeholder": "​",
            "style": "IPY_MODEL_c3e3f93df9134624aaecb0afc1cfcfbe",
            "value": "위기, 불확실, 걱정, 우려, 위험, 리스크"
          }
        },
        "89b828afb0ae43f9a371d2d00bae74b1": {
          "model_module": "@jupyter-widgets/base",
          "model_name": "LayoutModel",
          "model_module_version": "1.2.0",
          "state": {
            "_model_module": "@jupyter-widgets/base",
            "_model_module_version": "1.2.0",
            "_model_name": "LayoutModel",
            "_view_count": null,
            "_view_module": "@jupyter-widgets/base",
            "_view_module_version": "1.2.0",
            "_view_name": "LayoutView",
            "align_content": null,
            "align_items": null,
            "align_self": null,
            "border": null,
            "bottom": null,
            "display": null,
            "flex": null,
            "flex_flow": null,
            "grid_area": null,
            "grid_auto_columns": null,
            "grid_auto_flow": null,
            "grid_auto_rows": null,
            "grid_column": null,
            "grid_gap": null,
            "grid_row": null,
            "grid_template_areas": null,
            "grid_template_columns": null,
            "grid_template_rows": null,
            "height": null,
            "justify_content": null,
            "justify_items": null,
            "left": null,
            "margin": null,
            "max_height": null,
            "max_width": null,
            "min_height": null,
            "min_width": null,
            "object_fit": null,
            "object_position": null,
            "order": null,
            "overflow": null,
            "overflow_x": null,
            "overflow_y": null,
            "padding": null,
            "right": null,
            "top": null,
            "visibility": null,
            "width": null
          }
        },
        "c3e3f93df9134624aaecb0afc1cfcfbe": {
          "model_module": "@jupyter-widgets/controls",
          "model_name": "DescriptionStyleModel",
          "model_module_version": "1.5.0",
          "state": {
            "_model_module": "@jupyter-widgets/controls",
            "_model_module_version": "1.5.0",
            "_model_name": "DescriptionStyleModel",
            "_view_count": null,
            "_view_module": "@jupyter-widgets/base",
            "_view_module_version": "1.2.0",
            "_view_name": "StyleView",
            "description_width": "initial"
          }
        },
        "24d58ad21ec2409fafee48cb6fdd3288": {
          "model_module": "@jupyter-widgets/controls",
          "model_name": "TextModel",
          "model_module_version": "1.5.0",
          "state": {
            "_dom_classes": [],
            "_model_module": "@jupyter-widgets/controls",
            "_model_module_version": "1.5.0",
            "_model_name": "TextModel",
            "_view_count": null,
            "_view_module": "@jupyter-widgets/controls",
            "_view_module_version": "1.5.0",
            "_view_name": "TextView",
            "continuous_update": true,
            "description": "시작날짜(yyyy-mm-dd):",
            "description_tooltip": null,
            "disabled": false,
            "layout": "IPY_MODEL_99802f5089fe4702841ca7777b013880",
            "placeholder": "​",
            "style": "IPY_MODEL_9db84ab8129a4597be4d735100aa17fc",
            "value": "1996-01-01"
          }
        },
        "99802f5089fe4702841ca7777b013880": {
          "model_module": "@jupyter-widgets/base",
          "model_name": "LayoutModel",
          "model_module_version": "1.2.0",
          "state": {
            "_model_module": "@jupyter-widgets/base",
            "_model_module_version": "1.2.0",
            "_model_name": "LayoutModel",
            "_view_count": null,
            "_view_module": "@jupyter-widgets/base",
            "_view_module_version": "1.2.0",
            "_view_name": "LayoutView",
            "align_content": null,
            "align_items": null,
            "align_self": null,
            "border": null,
            "bottom": null,
            "display": null,
            "flex": null,
            "flex_flow": null,
            "grid_area": null,
            "grid_auto_columns": null,
            "grid_auto_flow": null,
            "grid_auto_rows": null,
            "grid_column": null,
            "grid_gap": null,
            "grid_row": null,
            "grid_template_areas": null,
            "grid_template_columns": null,
            "grid_template_rows": null,
            "height": null,
            "justify_content": null,
            "justify_items": null,
            "left": null,
            "margin": null,
            "max_height": null,
            "max_width": null,
            "min_height": null,
            "min_width": null,
            "object_fit": null,
            "object_position": null,
            "order": null,
            "overflow": null,
            "overflow_x": null,
            "overflow_y": null,
            "padding": null,
            "right": null,
            "top": null,
            "visibility": null,
            "width": null
          }
        },
        "9db84ab8129a4597be4d735100aa17fc": {
          "model_module": "@jupyter-widgets/controls",
          "model_name": "DescriptionStyleModel",
          "model_module_version": "1.5.0",
          "state": {
            "_model_module": "@jupyter-widgets/controls",
            "_model_module_version": "1.5.0",
            "_model_name": "DescriptionStyleModel",
            "_view_count": null,
            "_view_module": "@jupyter-widgets/base",
            "_view_module_version": "1.2.0",
            "_view_name": "StyleView",
            "description_width": "initial"
          }
        },
        "b0dfca70ab2543a4b4cb05f825de15aa": {
          "model_module": "@jupyter-widgets/controls",
          "model_name": "TextModel",
          "model_module_version": "1.5.0",
          "state": {
            "_dom_classes": [],
            "_model_module": "@jupyter-widgets/controls",
            "_model_module_version": "1.5.0",
            "_model_name": "TextModel",
            "_view_count": null,
            "_view_module": "@jupyter-widgets/controls",
            "_view_module_version": "1.5.0",
            "_view_name": "TextView",
            "continuous_update": true,
            "description": "끝날짜(yyyy-mm-dd):",
            "description_tooltip": null,
            "disabled": false,
            "layout": "IPY_MODEL_d7addec7670a446dab07f7041a488d8a",
            "placeholder": "​",
            "style": "IPY_MODEL_0a90d1fb1a744cf58067cc7115c4ee90",
            "value": "2024-05-31"
          }
        },
        "d7addec7670a446dab07f7041a488d8a": {
          "model_module": "@jupyter-widgets/base",
          "model_name": "LayoutModel",
          "model_module_version": "1.2.0",
          "state": {
            "_model_module": "@jupyter-widgets/base",
            "_model_module_version": "1.2.0",
            "_model_name": "LayoutModel",
            "_view_count": null,
            "_view_module": "@jupyter-widgets/base",
            "_view_module_version": "1.2.0",
            "_view_name": "LayoutView",
            "align_content": null,
            "align_items": null,
            "align_self": null,
            "border": null,
            "bottom": null,
            "display": null,
            "flex": null,
            "flex_flow": null,
            "grid_area": null,
            "grid_auto_columns": null,
            "grid_auto_flow": null,
            "grid_auto_rows": null,
            "grid_column": null,
            "grid_gap": null,
            "grid_row": null,
            "grid_template_areas": null,
            "grid_template_columns": null,
            "grid_template_rows": null,
            "height": null,
            "justify_content": null,
            "justify_items": null,
            "left": null,
            "margin": null,
            "max_height": null,
            "max_width": null,
            "min_height": null,
            "min_width": null,
            "object_fit": null,
            "object_position": null,
            "order": null,
            "overflow": null,
            "overflow_x": null,
            "overflow_y": null,
            "padding": null,
            "right": null,
            "top": null,
            "visibility": null,
            "width": null
          }
        },
        "0a90d1fb1a744cf58067cc7115c4ee90": {
          "model_module": "@jupyter-widgets/controls",
          "model_name": "DescriptionStyleModel",
          "model_module_version": "1.5.0",
          "state": {
            "_model_module": "@jupyter-widgets/controls",
            "_model_module_version": "1.5.0",
            "_model_name": "DescriptionStyleModel",
            "_view_count": null,
            "_view_module": "@jupyter-widgets/base",
            "_view_module_version": "1.2.0",
            "_view_name": "StyleView",
            "description_width": "initial"
          }
        },
        "508d11f7eebf49c4a11b4767e16263ed": {
          "model_module": "@jupyter-widgets/controls",
          "model_name": "DropdownModel",
          "model_module_version": "1.5.0",
          "state": {
            "_dom_classes": [],
            "_model_module": "@jupyter-widgets/controls",
            "_model_module_version": "1.5.0",
            "_model_name": "DropdownModel",
            "_options_labels": [
              "daily",
              "monthly",
              "annually"
            ],
            "_view_count": null,
            "_view_module": "@jupyter-widgets/controls",
            "_view_module_version": "1.5.0",
            "_view_name": "DropdownView",
            "description": "기간:",
            "description_tooltip": null,
            "disabled": false,
            "index": 1,
            "layout": "IPY_MODEL_9ca49a49a9b04f8e83650311c0b446a8",
            "style": "IPY_MODEL_1c42d8c71d5347aa80c1bf0edae7e531"
          }
        },
        "9ca49a49a9b04f8e83650311c0b446a8": {
          "model_module": "@jupyter-widgets/base",
          "model_name": "LayoutModel",
          "model_module_version": "1.2.0",
          "state": {
            "_model_module": "@jupyter-widgets/base",
            "_model_module_version": "1.2.0",
            "_model_name": "LayoutModel",
            "_view_count": null,
            "_view_module": "@jupyter-widgets/base",
            "_view_module_version": "1.2.0",
            "_view_name": "LayoutView",
            "align_content": null,
            "align_items": null,
            "align_self": null,
            "border": null,
            "bottom": null,
            "display": null,
            "flex": null,
            "flex_flow": null,
            "grid_area": null,
            "grid_auto_columns": null,
            "grid_auto_flow": null,
            "grid_auto_rows": null,
            "grid_column": null,
            "grid_gap": null,
            "grid_row": null,
            "grid_template_areas": null,
            "grid_template_columns": null,
            "grid_template_rows": null,
            "height": null,
            "justify_content": null,
            "justify_items": null,
            "left": null,
            "margin": null,
            "max_height": null,
            "max_width": null,
            "min_height": null,
            "min_width": null,
            "object_fit": null,
            "object_position": null,
            "order": null,
            "overflow": null,
            "overflow_x": null,
            "overflow_y": null,
            "padding": null,
            "right": null,
            "top": null,
            "visibility": null,
            "width": null
          }
        },
        "1c42d8c71d5347aa80c1bf0edae7e531": {
          "model_module": "@jupyter-widgets/controls",
          "model_name": "DescriptionStyleModel",
          "model_module_version": "1.5.0",
          "state": {
            "_model_module": "@jupyter-widgets/controls",
            "_model_module_version": "1.5.0",
            "_model_name": "DescriptionStyleModel",
            "_view_count": null,
            "_view_module": "@jupyter-widgets/base",
            "_view_module_version": "1.2.0",
            "_view_name": "StyleView",
            "description_width": "initial"
          }
        },
        "2e45a03190324570a987876271d1e783": {
          "model_module": "@jupyter-widgets/controls",
          "model_name": "DropdownModel",
          "model_module_version": "1.5.0",
          "state": {
            "_dom_classes": [],
            "_model_module": "@jupyter-widgets/controls",
            "_model_module_version": "1.5.0",
            "_model_name": "DropdownModel",
            "_options_labels": [
              "요약",
              "제목"
            ],
            "_view_count": null,
            "_view_module": "@jupyter-widgets/controls",
            "_view_module_version": "1.5.0",
            "_view_name": "DropdownView",
            "description": "텍스트 출처:",
            "description_tooltip": null,
            "disabled": false,
            "index": 0,
            "layout": "IPY_MODEL_929ad56b2a8f463db71443dff32b06f2",
            "style": "IPY_MODEL_c1999544ff564747aaa5df7ef2f1e886"
          }
        },
        "929ad56b2a8f463db71443dff32b06f2": {
          "model_module": "@jupyter-widgets/base",
          "model_name": "LayoutModel",
          "model_module_version": "1.2.0",
          "state": {
            "_model_module": "@jupyter-widgets/base",
            "_model_module_version": "1.2.0",
            "_model_name": "LayoutModel",
            "_view_count": null,
            "_view_module": "@jupyter-widgets/base",
            "_view_module_version": "1.2.0",
            "_view_name": "LayoutView",
            "align_content": null,
            "align_items": null,
            "align_self": null,
            "border": null,
            "bottom": null,
            "display": null,
            "flex": null,
            "flex_flow": null,
            "grid_area": null,
            "grid_auto_columns": null,
            "grid_auto_flow": null,
            "grid_auto_rows": null,
            "grid_column": null,
            "grid_gap": null,
            "grid_row": null,
            "grid_template_areas": null,
            "grid_template_columns": null,
            "grid_template_rows": null,
            "height": null,
            "justify_content": null,
            "justify_items": null,
            "left": null,
            "margin": null,
            "max_height": null,
            "max_width": null,
            "min_height": null,
            "min_width": null,
            "object_fit": null,
            "object_position": null,
            "order": null,
            "overflow": null,
            "overflow_x": null,
            "overflow_y": null,
            "padding": null,
            "right": null,
            "top": null,
            "visibility": null,
            "width": null
          }
        },
        "c1999544ff564747aaa5df7ef2f1e886": {
          "model_module": "@jupyter-widgets/controls",
          "model_name": "DescriptionStyleModel",
          "model_module_version": "1.5.0",
          "state": {
            "_model_module": "@jupyter-widgets/controls",
            "_model_module_version": "1.5.0",
            "_model_name": "DescriptionStyleModel",
            "_view_count": null,
            "_view_module": "@jupyter-widgets/base",
            "_view_module_version": "1.2.0",
            "_view_name": "StyleView",
            "description_width": "initial"
          }
        },
        "ed5444193de44e55b026d5b2ab4b4782": {
          "model_module": "@jupyter-widgets/controls",
          "model_name": "ButtonModel",
          "model_module_version": "1.5.0",
          "state": {
            "_dom_classes": [],
            "_model_module": "@jupyter-widgets/controls",
            "_model_module_version": "1.5.0",
            "_model_name": "ButtonModel",
            "_view_count": null,
            "_view_module": "@jupyter-widgets/controls",
            "_view_module_version": "1.5.0",
            "_view_name": "ButtonView",
            "button_style": "info",
            "description": "그리기",
            "disabled": false,
            "icon": "",
            "layout": "IPY_MODEL_dafd9c2d7b874fddb79ce4425eab273f",
            "style": "IPY_MODEL_cf46a4669f9f4f7ba0fd08e97e0022b3",
            "tooltip": "누르면 그래프가 그려집니다."
          }
        },
        "dafd9c2d7b874fddb79ce4425eab273f": {
          "model_module": "@jupyter-widgets/base",
          "model_name": "LayoutModel",
          "model_module_version": "1.2.0",
          "state": {
            "_model_module": "@jupyter-widgets/base",
            "_model_module_version": "1.2.0",
            "_model_name": "LayoutModel",
            "_view_count": null,
            "_view_module": "@jupyter-widgets/base",
            "_view_module_version": "1.2.0",
            "_view_name": "LayoutView",
            "align_content": null,
            "align_items": null,
            "align_self": null,
            "border": null,
            "bottom": null,
            "display": null,
            "flex": null,
            "flex_flow": null,
            "grid_area": null,
            "grid_auto_columns": null,
            "grid_auto_flow": null,
            "grid_auto_rows": null,
            "grid_column": null,
            "grid_gap": null,
            "grid_row": null,
            "grid_template_areas": null,
            "grid_template_columns": null,
            "grid_template_rows": null,
            "height": null,
            "justify_content": null,
            "justify_items": null,
            "left": null,
            "margin": null,
            "max_height": null,
            "max_width": null,
            "min_height": null,
            "min_width": null,
            "object_fit": null,
            "object_position": null,
            "order": null,
            "overflow": null,
            "overflow_x": null,
            "overflow_y": null,
            "padding": null,
            "right": null,
            "top": null,
            "visibility": null,
            "width": null
          }
        },
        "cf46a4669f9f4f7ba0fd08e97e0022b3": {
          "model_module": "@jupyter-widgets/controls",
          "model_name": "ButtonStyleModel",
          "model_module_version": "1.5.0",
          "state": {
            "_model_module": "@jupyter-widgets/controls",
            "_model_module_version": "1.5.0",
            "_model_name": "ButtonStyleModel",
            "_view_count": null,
            "_view_module": "@jupyter-widgets/base",
            "_view_module_version": "1.2.0",
            "_view_name": "StyleView",
            "button_color": null,
            "font_weight": ""
          }
        },
        "e71c870212a746da9273272308b63be2": {
          "model_module": "@jupyter-widgets/output",
          "model_name": "OutputModel",
          "model_module_version": "1.0.0",
          "state": {
            "_dom_classes": [],
            "_model_module": "@jupyter-widgets/output",
            "_model_module_version": "1.0.0",
            "_model_name": "OutputModel",
            "_view_count": null,
            "_view_module": "@jupyter-widgets/output",
            "_view_module_version": "1.0.0",
            "_view_name": "OutputView",
            "layout": "IPY_MODEL_3cefa7a98f03478f9698867d6d26fcf1",
            "msg_id": "",
            "outputs": [
              {
                "output_type": "display_data",
                "data": {
                  "text/plain": "<Figure size 1600x600 with 1 Axes>",
                  "image/png": "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\n"
                },
                "metadata": {}
              },
              {
                "output_type": "stream",
                "name": "stdout",
                "text": [
                  "포함 단어(또는): ['위기', '불확실', '걱정', '우려', '위험', '리스크']\n"
                ]
              }
            ]
          }
        },
        "3cefa7a98f03478f9698867d6d26fcf1": {
          "model_module": "@jupyter-widgets/base",
          "model_name": "LayoutModel",
          "model_module_version": "1.2.0",
          "state": {
            "_model_module": "@jupyter-widgets/base",
            "_model_module_version": "1.2.0",
            "_model_name": "LayoutModel",
            "_view_count": null,
            "_view_module": "@jupyter-widgets/base",
            "_view_module_version": "1.2.0",
            "_view_name": "LayoutView",
            "align_content": null,
            "align_items": null,
            "align_self": null,
            "border": null,
            "bottom": null,
            "display": null,
            "flex": null,
            "flex_flow": null,
            "grid_area": null,
            "grid_auto_columns": null,
            "grid_auto_flow": null,
            "grid_auto_rows": null,
            "grid_column": null,
            "grid_gap": null,
            "grid_row": null,
            "grid_template_areas": null,
            "grid_template_columns": null,
            "grid_template_rows": null,
            "height": null,
            "justify_content": null,
            "justify_items": null,
            "left": null,
            "margin": null,
            "max_height": null,
            "max_width": null,
            "min_height": null,
            "min_width": null,
            "object_fit": null,
            "object_position": null,
            "order": null,
            "overflow": null,
            "overflow_x": null,
            "overflow_y": null,
            "padding": null,
            "right": null,
            "top": null,
            "visibility": null,
            "width": null
          }
        }
      }
    }
  },
  "cells": [
    {
      "cell_type": "markdown",
      "metadata": {
        "id": "view-in-github",
        "colab_type": "text"
      },
      "source": [
        "<a href=\"https://colab.research.google.com/github/jo-cho/eitm/blob/main/text_analysis/EPIC_Keyword_Plot.ipynb\" target=\"_parent\"><img src=\"https://colab.research.google.com/assets/colab-badge.svg\" alt=\"Open In Colab\"/></a>"
      ]
    },
    {
      "cell_type": "markdown",
      "source": [
        "# Made BY JO-CHO"
      ],
      "metadata": {
        "id": "tHTcu03u1uJ2"
      }
    },
    {
      "cell_type": "markdown",
      "source": [
        "아래 코드를 변경없이 모두 실행해주세요."
      ],
      "metadata": {
        "id": "7p_P-VmJinBy"
      }
    },
    {
      "cell_type": "markdown",
      "source": [
        "## import"
      ],
      "metadata": {
        "id": "-rrvjFLa1zd6"
      }
    },
    {
      "cell_type": "code",
      "execution_count": 6,
      "metadata": {
        "id": "9kgQO8XR1j7C"
      },
      "outputs": [],
      "source": [
        "# Made BY JO-CHO\n",
        "import pandas as pd\n",
        "import numpy as np\n",
        "import matplotlib.pyplot as plt\n",
        "from matplotlib import font_manager, rc\n",
        "from collections import Counter\n",
        "import ipywidgets as widgets\n",
        "from IPython.display import display\n",
        "import warnings\n",
        "warnings.filterwarnings('ignore')"
      ]
    },
    {
      "cell_type": "markdown",
      "source": [
        "## load file\n",
        "\n",
        "데이터 로딩 시간이 조금 걸릴 수 있습니다."
      ],
      "metadata": {
        "id": "rfPSPEXx1_JN"
      }
    },
    {
      "cell_type": "code",
      "source": [
        "file_url = \"https://github.com/jo-cho/eitm/raw/main/data/epic_data.xlsx\"\n",
        "raw_df = pd.read_excel(file_url, engine='openpyxl')"
      ],
      "metadata": {
        "id": "i6iJIdtk1sjM"
      },
      "execution_count": 7,
      "outputs": []
    },
    {
      "cell_type": "markdown",
      "source": [
        "## data preprocessing"
      ],
      "metadata": {
        "id": "e_XSqf7M5JTg"
      }
    },
    {
      "cell_type": "code",
      "source": [
        "df = raw_df[['발간처','자료명', '발간일','요약']].sort_values('발간일').reset_index(drop=True)\n",
        "\n",
        "# 날짜 형식을 datetime 형식으로 변환하는 함수\n",
        "def convert_to_datetime(date_str):\n",
        "    # 'yyyy.mm.' 형식인 경우\n",
        "    if len(date_str) == 8 and date_str[-1] == '.':\n",
        "        date_str += '01'\n",
        "    # 'yyyy.mm.dd' 형식이 아니거나, 잘못된 형식인 경우 None 반환\n",
        "    elif len(date_str) != 10 or not date_str.replace('.', '').isdigit():\n",
        "        return None\n",
        "\n",
        "    # 유효하지 않은 일자 확인 및 수정\n",
        "    try:\n",
        "        date = pd.to_datetime(date_str, format='%Y.%m.%d', errors='raise')\n",
        "        # 유효하지 않은 월이나 일을 가진 경우 None 반환\n",
        "        if date.month == 0 or date.day == 0:\n",
        "            return None\n",
        "    except ValueError:\n",
        "        # 잘못된 날짜는 'yyyy.mm.01'로 수정\n",
        "        date_str = date_str[:8] + '01'\n",
        "        try:\n",
        "            date = pd.to_datetime(date_str, format='%Y.%m.%d')\n",
        "        except ValueError:\n",
        "            return None\n",
        "    return date\n",
        "\n",
        "# '발간일' 컬럼을 datetime 형식으로 변환\n",
        "df['발간일'] = df['발간일'].apply(convert_to_datetime)"
      ],
      "metadata": {
        "id": "zi2agS0b3PMK"
      },
      "execution_count": 8,
      "outputs": []
    },
    {
      "cell_type": "markdown",
      "source": [
        "## PLOT\n",
        "\n",
        "아래 코드를 실행하면, 밑에 입력 칸이 나옵니다.\n",
        "\n",
        "포함 단어에 추이를 알고 싶은 키워드를 입력해주세요.\n",
        "\n",
        "여러 단어일 경우에는 콤마(,)로 구분해주세요.\n",
        "(예시: 저출산, 저출생)"
      ],
      "metadata": {
        "id": "uCMIYAOH5mrZ"
      }
    },
    {
      "cell_type": "code",
      "source": [
        "# 키워드 입력 위젯\n",
        "keywords_widget = widgets.Text(\n",
        "    value='단어를 입력하세요',\n",
        "    description=\"포함 단어:\",\n",
        "    style={'description_width': 'initial'}\n",
        ")\n",
        "\n",
        "# 날짜 범위 입력 위젯\n",
        "start_date_widget = widgets.Text(\n",
        "    value='1996-01-01',\n",
        "    description=\"시작날짜(yyyy-mm-dd):\",\n",
        "    style={'description_width': 'initial'}\n",
        ")\n",
        "end_date_widget = widgets.Text(\n",
        "    value='2024-05-31',\n",
        "    description='끝날짜(yyyy-mm-dd):',\n",
        "    style={'description_width': 'initial'}\n",
        ")\n",
        "\n",
        "# 집계 기간 선택 위젯\n",
        "period_widget = widgets.Dropdown(\n",
        "    options=['daily', 'monthly', 'annually'],\n",
        "    value='monthly',\n",
        "    description='기간:',\n",
        "    style={'description_width': 'initial'}\n",
        ")\n",
        "\n",
        "# 요약/제목 선택 위젯\n",
        "from_summary_widget = widgets.Dropdown(\n",
        "    options=['요약','제목'],\n",
        "    value='요약',\n",
        "    description='텍스트 출처:',\n",
        "    style={'description_width': 'initial'}\n",
        ")\n",
        "\n",
        "# 출력 영역\n",
        "output = widgets.Output()\n",
        "\n",
        "# 위젯 디스플레이\n",
        "display(keywords_widget, start_date_widget, end_date_widget, period_widget, from_summary_widget)\n",
        "\n",
        "# 함수 정의 및 실행\n",
        "def contains_keyword(text, keywords):\n",
        "    if isinstance(text, str):\n",
        "        return int(any(keyword in text for keyword in keywords))\n",
        "    return 0\n",
        "\n",
        "def count_by_period(data, period, from_summary='요약', start_date='1996-01-01', end_date='2024-05-31'):\n",
        "    data = data[(data['발간일'] >= start_date) & (data['발간일'] <= end_date)]\n",
        "    if from_summary == '요약':\n",
        "        keyword_col = '포함_요약'\n",
        "    elif from_summary == '제목':\n",
        "        keyword_col = '포함_제목'\n",
        "\n",
        "    if period == 'daily':\n",
        "        counts = data.groupby(data['발간일'].dt.date)[keyword_col].agg(['count', 'sum'])\n",
        "    elif period == 'monthly':\n",
        "        counts = data.groupby(data['발간일'].dt.to_period('M'))[keyword_col].agg(['count', 'sum'])\n",
        "    elif period == 'annually':\n",
        "        counts = data.groupby(data['발간일'].dt.to_period('Y'))[keyword_col].agg(['count', 'sum'])\n",
        "    else:\n",
        "        raise ValueError(\"Invalid period. Choose from 'daily', 'monthly', or 'annually'.\")\n",
        "\n",
        "    counts.columns = ['total_count', 'keyword_count']\n",
        "    return counts['keyword_count']\n",
        "\n",
        "def on_button_click(b):\n",
        "    with output:\n",
        "        output.clear_output()\n",
        "\n",
        "        # 입력 값 가져오기\n",
        "        keywords = keywords_widget.value.split(',')\n",
        "        keywords = [kw.strip() for kw in keywords]\n",
        "        start_date = start_date_widget.value\n",
        "        end_date = end_date_widget.value\n",
        "        period = period_widget.value\n",
        "        from_summary = from_summary_widget.value\n",
        "\n",
        "        # 데이터 전처리\n",
        "        df['포함_요약'] = df['요약'].apply(lambda x: contains_keyword(x, keywords))\n",
        "        df['포함_제목'] = df['자료명'].apply(lambda x: contains_keyword(x, keywords))\n",
        "\n",
        "        # 결과 계산 및 시각화\n",
        "        result = count_by_period(df, period=period, from_summary=from_summary, start_date=start_date, end_date=end_date)\n",
        "\n",
        "        plt.figure(figsize=(16, 6))\n",
        "        result.plot()\n",
        "        plt.title(f'{period} Keywords Plot')\n",
        "        plt.xlabel('Date')\n",
        "        plt.ylabel('Counts')\n",
        "        plt.show()\n",
        "\n",
        "        print(f\"포함 단어(또는): {keywords}\")\n",
        "\n",
        "# 버튼 생성\n",
        "button = widgets.Button(\n",
        "    description='그리기',\n",
        "    disabled=False,\n",
        "    button_style='info',\n",
        "    tooltip='누르면 그래프가 그려집니다.',\n",
        ")\n",
        "\n",
        "button.on_click(on_button_click)\n",
        "\n",
        "# 버튼 디스플레이\n",
        "display(button, output)"
      ],
      "metadata": {
        "colab": {
          "base_uri": "https://localhost:8080/",
          "height": 768,
          "referenced_widgets": [
            "9d92d63c47af4d12ac2bb6b1776fc138",
            "89b828afb0ae43f9a371d2d00bae74b1",
            "c3e3f93df9134624aaecb0afc1cfcfbe",
            "24d58ad21ec2409fafee48cb6fdd3288",
            "99802f5089fe4702841ca7777b013880",
            "9db84ab8129a4597be4d735100aa17fc",
            "b0dfca70ab2543a4b4cb05f825de15aa",
            "d7addec7670a446dab07f7041a488d8a",
            "0a90d1fb1a744cf58067cc7115c4ee90",
            "508d11f7eebf49c4a11b4767e16263ed",
            "9ca49a49a9b04f8e83650311c0b446a8",
            "1c42d8c71d5347aa80c1bf0edae7e531",
            "2e45a03190324570a987876271d1e783",
            "929ad56b2a8f463db71443dff32b06f2",
            "c1999544ff564747aaa5df7ef2f1e886",
            "ed5444193de44e55b026d5b2ab4b4782",
            "dafd9c2d7b874fddb79ce4425eab273f",
            "cf46a4669f9f4f7ba0fd08e97e0022b3",
            "e71c870212a746da9273272308b63be2",
            "3cefa7a98f03478f9698867d6d26fcf1"
          ]
        },
        "id": "kENwJGiW6MHF",
        "outputId": "33aefbfc-8caf-476d-a87b-49710c70f1e9"
      },
      "execution_count": 9,
      "outputs": [
        {
          "output_type": "display_data",
          "data": {
            "text/plain": [
              "Text(value='단어를 입력하세요', description='포함 단어:', style=DescriptionStyle(description_width='initial'))"
            ],
            "application/vnd.jupyter.widget-view+json": {
              "version_major": 2,
              "version_minor": 0,
              "model_id": "9d92d63c47af4d12ac2bb6b1776fc138"
            }
          },
          "metadata": {}
        },
        {
          "output_type": "display_data",
          "data": {
            "text/plain": [
              "Text(value='1996-01-01', description='시작날짜(yyyy-mm-dd):', style=DescriptionStyle(description_width='initial'))"
            ],
            "application/vnd.jupyter.widget-view+json": {
              "version_major": 2,
              "version_minor": 0,
              "model_id": "24d58ad21ec2409fafee48cb6fdd3288"
            }
          },
          "metadata": {}
        },
        {
          "output_type": "display_data",
          "data": {
            "text/plain": [
              "Text(value='2024-05-31', description='끝날짜(yyyy-mm-dd):', style=DescriptionStyle(description_width='initial'))"
            ],
            "application/vnd.jupyter.widget-view+json": {
              "version_major": 2,
              "version_minor": 0,
              "model_id": "b0dfca70ab2543a4b4cb05f825de15aa"
            }
          },
          "metadata": {}
        },
        {
          "output_type": "display_data",
          "data": {
            "text/plain": [
              "Dropdown(description='기간:', index=1, options=('daily', 'monthly', 'annually'), style=DescriptionStyle(descript…"
            ],
            "application/vnd.jupyter.widget-view+json": {
              "version_major": 2,
              "version_minor": 0,
              "model_id": "508d11f7eebf49c4a11b4767e16263ed"
            }
          },
          "metadata": {}
        },
        {
          "output_type": "display_data",
          "data": {
            "text/plain": [
              "Dropdown(description='텍스트 출처:', options=('요약', '제목'), style=DescriptionStyle(description_width='initial'), val…"
            ],
            "application/vnd.jupyter.widget-view+json": {
              "version_major": 2,
              "version_minor": 0,
              "model_id": "2e45a03190324570a987876271d1e783"
            }
          },
          "metadata": {}
        },
        {
          "output_type": "display_data",
          "data": {
            "text/plain": [
              "Button(button_style='info', description='그리기', style=ButtonStyle(), tooltip='누르면 그래프가 그려집니다.')"
            ],
            "application/vnd.jupyter.widget-view+json": {
              "version_major": 2,
              "version_minor": 0,
              "model_id": "ed5444193de44e55b026d5b2ab4b4782"
            }
          },
          "metadata": {}
        },
        {
          "output_type": "display_data",
          "data": {
            "text/plain": [
              "Output()"
            ],
            "application/vnd.jupyter.widget-view+json": {
              "version_major": 2,
              "version_minor": 0,
              "model_id": "e71c870212a746da9273272308b63be2"
            }
          },
          "metadata": {}
        }
      ]
    },
    {
      "cell_type": "markdown",
      "source": [
        "주의할 점:\n",
        "\n",
        "- 위는 단순 키워드 빈도 수이기 때문에, 정책 흐름을 확인하는데 효과적이지 않을 수 있다. 애초에 연도별로 나오는 (혹은 구축된) 총 정책 수의 추세가 다를 수 있기 때문이다.\n",
        "- 따라서, 당일/당월 나온 자료 수 중 해당 키워드 포함 자료 수의 비율로 지수를 만드는 방법이 있다. 아래에 코드가 있다."
      ],
      "metadata": {
        "id": "fDX-klFLkkLv"
      }
    }
  ]
}