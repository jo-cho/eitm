{
 "cells": [
  {
   "cell_type": "markdown",
   "metadata": {},
   "source": [
    "# EPIC data concat\n",
    "\n",
    "epic, epic_research"
   ]
  },
  {
   "cell_type": "code",
   "execution_count": 4,
   "metadata": {
    "id": "W-2ZFqstWNlX"
   },
   "outputs": [],
   "source": [
    "import pandas as pd\n",
    "import numpy as np\n",
    "import matplotlib.pyplot as plt"
   ]
  },
  {
   "cell_type": "markdown",
   "metadata": {},
   "source": [
    "# EPIC - policy"
   ]
  },
  {
   "cell_type": "code",
   "execution_count": 5,
   "metadata": {
    "id": "RAcOTnxsYu2A"
   },
   "outputs": [],
   "source": [
    "import os\n",
    "\n",
    "folder_path = '../data'\n",
    "all_files = os.listdir(folder_path)\n",
    "\n",
    "# 2. \"epic_metadata_\"로 시작하는 파일 필터링\n",
    "xlsx_files = [f for f in all_files if f.startswith('epic_metadata_') and f.endswith('.xlsx')]\n",
    "\n",
    "# 3. 각 파일을 읽어서 데이터프레임으로 변환\n",
    "df_list = []\n",
    "for file in xlsx_files:\n",
    "    file_path = os.path.join(folder_path, file)\n",
    "    df = pd.read_excel(file_path)\n",
    "    df_list.append(df)\n",
    "\n",
    "# 4. 모든 데이터프레임을 하나로 연결\n",
    "combined_df = pd.concat(df_list, ignore_index=True).sort_values('발간일').reset_index(drop=True)"
   ]
  },
  {
   "cell_type": "code",
   "execution_count": 6,
   "metadata": {},
   "outputs": [],
   "source": [
    "# 합쳐서 저장하기\n",
    "data_tosave = combined_df.rename(columns={'Unnamed: 0':'No'}).sort_values('No').reset_index(drop=True)\n",
    "data_tosave.to_excel(\"../data/epic_data.xlsx\", engine='xlsxwriter')"
   ]
  },
  {
   "cell_type": "code",
   "execution_count": 8,
   "metadata": {},
   "outputs": [
    {
     "data": {
      "text/html": [
       "<div>\n",
       "<style scoped>\n",
       "    .dataframe tbody tr th:only-of-type {\n",
       "        vertical-align: middle;\n",
       "    }\n",
       "\n",
       "    .dataframe tbody tr th {\n",
       "        vertical-align: top;\n",
       "    }\n",
       "\n",
       "    .dataframe thead th {\n",
       "        text-align: right;\n",
       "    }\n",
       "</style>\n",
       "<table border=\"1\" class=\"dataframe\">\n",
       "  <thead>\n",
       "    <tr style=\"text-align: right;\">\n",
       "      <th></th>\n",
       "      <th>No</th>\n",
       "      <th>자료명</th>\n",
       "      <th>발간일</th>\n",
       "      <th>발간처</th>\n",
       "      <th>요약</th>\n",
       "    </tr>\n",
       "  </thead>\n",
       "  <tbody>\n",
       "    <tr>\n",
       "      <th>0</th>\n",
       "      <td>1</td>\n",
       "      <td>'96년에 달라지는 양도세 및 상속세 주요내용</td>\n",
       "      <td>1996.01.01</td>\n",
       "      <td>재정경제원 세제실 재산세제과</td>\n",
       "      <td>'96년부터 달라지는 양도세,상속세 주요내용\\nⅠ. 양도세관련 개정내용\\n1. 양도...</td>\n",
       "    </tr>\n",
       "    <tr>\n",
       "      <th>1</th>\n",
       "      <td>2</td>\n",
       "      <td>'96년에 달라지는 교육세등 주요내용</td>\n",
       "      <td>1996.01.04</td>\n",
       "      <td>재정경제원 세제실 기본법규과</td>\n",
       "      <td>'96년부터 달라지는 교육세법,세무사법,농어촌특별세법 주요내용\\nⅠ. 교육세법\\n1...</td>\n",
       "    </tr>\n",
       "    <tr>\n",
       "      <th>2</th>\n",
       "      <td>3</td>\n",
       "      <td>'96년에 달라지는 소비세 주요내용</td>\n",
       "      <td>1996.01.03</td>\n",
       "      <td>재정경제원 세제실 소비세제과</td>\n",
       "      <td>'96년부터 달라지는 부가가치세법,특별소비세법.교통세법,주세법 주요내용\\nⅠ. 부가...</td>\n",
       "    </tr>\n",
       "    <tr>\n",
       "      <th>3</th>\n",
       "      <td>4</td>\n",
       "      <td>우리국민이 꼭 알아야 할 외환상식</td>\n",
       "      <td>1996.01.04</td>\n",
       "      <td>재정경제원 금융정책실 국제금융담당관실</td>\n",
       "      <td>재정경제원이 해외여행 자유화 증대에 따라 마련한 국민이 알아야 할 외환상식 주요내용...</td>\n",
       "    </tr>\n",
       "    <tr>\n",
       "      <th>4</th>\n",
       "      <td>5</td>\n",
       "      <td>'95 부가가치세법시행규칙 개정</td>\n",
       "      <td>1996.01.03</td>\n",
       "      <td>재정경제원 세제실 소비세제과</td>\n",
       "      <td>시이상지역 소재 농.축협에서 판매하는 축협사료의 면세기한 연장 등을 주요 골자로 한...</td>\n",
       "    </tr>\n",
       "    <tr>\n",
       "      <th>...</th>\n",
       "      <td>...</td>\n",
       "      <td>...</td>\n",
       "      <td>...</td>\n",
       "      <td>...</td>\n",
       "      <td>...</td>\n",
       "    </tr>\n",
       "    <tr>\n",
       "      <th>237425</th>\n",
       "      <td>252173</td>\n",
       "      <td>식약처, 새로운 다발골수종 치료제 허가</td>\n",
       "      <td>2024.05.30</td>\n",
       "      <td>식품의약품안전처 바이오생약국 바이오허가TF</td>\n",
       "      <td>식품의약품안전처는 한국화이자제약㈜이 수입하는 희귀신약 ‘엘렉스피오주’를 5.30.(...</td>\n",
       "    </tr>\n",
       "    <tr>\n",
       "      <th>237426</th>\n",
       "      <td>252174</td>\n",
       "      <td>중소벤처기업부, 하도급법·공정거래법 위반한 삼성중공업·제일사료 공정위에 고발요청</td>\n",
       "      <td>2024.05.31</td>\n",
       "      <td>중소벤처기업부 소상공인정책실 상생협력정책관 불공정거래개선과</td>\n",
       "      <td>중소벤처기업부는 5.30(목) 「하도급법」을 위반한 삼성중공업(주)와 「공정거래법」...</td>\n",
       "    </tr>\n",
       "    <tr>\n",
       "      <th>237427</th>\n",
       "      <td>252175</td>\n",
       "      <td>김병환 1차관, 아시아인프라투자은행 사무총장과 한국인 채용 확대 등 협력 활성화 방...</td>\n",
       "      <td>2024.05.31</td>\n",
       "      <td>기획재정부 개발금융국 AIIB팀</td>\n",
       "      <td>기획재정부 1차관은 5.31.(금) 아시아인프라투자은행(AIIB) 사무총장을 만나 ...</td>\n",
       "    </tr>\n",
       "    <tr>\n",
       "      <th>237428</th>\n",
       "      <td>252176</td>\n",
       "      <td>“농수산물 비축·방출 등 여름철 대비 선제적 수급관리 강화”</td>\n",
       "      <td>2024.05.31</td>\n",
       "      <td>기획재정부 경제정책국 물가정책과</td>\n",
       "      <td>기획재정부는 5.31.(금) 「제23차 물가관계차관회의」를 개최하여 농축수산물, 식...</td>\n",
       "    </tr>\n",
       "    <tr>\n",
       "      <th>237429</th>\n",
       "      <td>252177</td>\n",
       "      <td>중기부, 레전드 50+ 참여기업 발대식에서 지역의 혁신과 미래 선도부처 다짐</td>\n",
       "      <td>2024.05.30</td>\n",
       "      <td>중소벤처기업부 중소기업정책실 지역기업정책관 지역혁신정책과</td>\n",
       "      <td>중소벤처기업부는 5.30.(목), 울산전시컨벤션센터에서 지역특화 사업(프로젝트) 레...</td>\n",
       "    </tr>\n",
       "  </tbody>\n",
       "</table>\n",
       "<p>237430 rows × 5 columns</p>\n",
       "</div>"
      ],
      "text/plain": [
       "            No                                                자료명         발간일  \\\n",
       "0            1                          '96년에 달라지는 양도세 및 상속세 주요내용  1996.01.01   \n",
       "1            2                               '96년에 달라지는 교육세등 주요내용  1996.01.04   \n",
       "2            3                                '96년에 달라지는 소비세 주요내용  1996.01.03   \n",
       "3            4                                 우리국민이 꼭 알아야 할 외환상식  1996.01.04   \n",
       "4            5                                  '95 부가가치세법시행규칙 개정  1996.01.03   \n",
       "...        ...                                                ...         ...   \n",
       "237425  252173                              식약처, 새로운 다발골수종 치료제 허가  2024.05.30   \n",
       "237426  252174       중소벤처기업부, 하도급법·공정거래법 위반한 삼성중공업·제일사료 공정위에 고발요청  2024.05.31   \n",
       "237427  252175  김병환 1차관, 아시아인프라투자은행 사무총장과 한국인 채용 확대 등 협력 활성화 방...  2024.05.31   \n",
       "237428  252176                  “농수산물 비축·방출 등 여름철 대비 선제적 수급관리 강화”  2024.05.31   \n",
       "237429  252177         중기부, 레전드 50+ 참여기업 발대식에서 지역의 혁신과 미래 선도부처 다짐  2024.05.30   \n",
       "\n",
       "                                     발간처  \\\n",
       "0                        재정경제원 세제실 재산세제과   \n",
       "1                        재정경제원 세제실 기본법규과   \n",
       "2                        재정경제원 세제실 소비세제과   \n",
       "3                   재정경제원 금융정책실 국제금융담당관실   \n",
       "4                        재정경제원 세제실 소비세제과   \n",
       "...                                  ...   \n",
       "237425           식품의약품안전처 바이오생약국 바이오허가TF   \n",
       "237426  중소벤처기업부 소상공인정책실 상생협력정책관 불공정거래개선과   \n",
       "237427                 기획재정부 개발금융국 AIIB팀   \n",
       "237428                 기획재정부 경제정책국 물가정책과   \n",
       "237429   중소벤처기업부 중소기업정책실 지역기업정책관 지역혁신정책과   \n",
       "\n",
       "                                                       요약  \n",
       "0       '96년부터 달라지는 양도세,상속세 주요내용\\nⅠ. 양도세관련 개정내용\\n1. 양도...  \n",
       "1       '96년부터 달라지는 교육세법,세무사법,농어촌특별세법 주요내용\\nⅠ. 교육세법\\n1...  \n",
       "2       '96년부터 달라지는 부가가치세법,특별소비세법.교통세법,주세법 주요내용\\nⅠ. 부가...  \n",
       "3       재정경제원이 해외여행 자유화 증대에 따라 마련한 국민이 알아야 할 외환상식 주요내용...  \n",
       "4       시이상지역 소재 농.축협에서 판매하는 축협사료의 면세기한 연장 등을 주요 골자로 한...  \n",
       "...                                                   ...  \n",
       "237425  식품의약품안전처는 한국화이자제약㈜이 수입하는 희귀신약 ‘엘렉스피오주’를 5.30.(...  \n",
       "237426  중소벤처기업부는 5.30(목) 「하도급법」을 위반한 삼성중공업(주)와 「공정거래법」...  \n",
       "237427  기획재정부 1차관은 5.31.(금) 아시아인프라투자은행(AIIB) 사무총장을 만나 ...  \n",
       "237428  기획재정부는 5.31.(금) 「제23차 물가관계차관회의」를 개최하여 농축수산물, 식...  \n",
       "237429  중소벤처기업부는 5.30.(목), 울산전시컨벤션센터에서 지역특화 사업(프로젝트) 레...  \n",
       "\n",
       "[237430 rows x 5 columns]"
      ]
     },
     "execution_count": 8,
     "metadata": {},
     "output_type": "execute_result"
    }
   ],
   "source": [
    "data_tosave"
   ]
  },
  {
   "cell_type": "markdown",
   "metadata": {},
   "source": [
    "# EPIC - research"
   ]
  },
  {
   "cell_type": "code",
   "execution_count": null,
   "metadata": {},
   "outputs": [],
   "source": [
    "import os\n",
    "\n",
    "folder_path = '../data'\n",
    "all_files_re = os.listdir(folder_path)\n",
    "\n",
    "# 2. \"epic_metadata_\"로 시작하는 파일 필터링\n",
    "xlsx_files_re = [f for f in all_files_re if f.startswith('research_metadata_') and f.endswith('.xlsx')]\n",
    "\n",
    "# 3. 각 파일을 읽어서 데이터프레임으로 변환\n",
    "df_list_re = []\n",
    "for file in xlsx_files:\n",
    "    file_path = os.path.join(folder_path, file)\n",
    "    df = pd.read_excel(file_path)\n",
    "    df_list_re.append(df)\n",
    "\n",
    "# 4. 모든 데이터프레임을 하나로 연결\n",
    "combined_df_re = pd.concat(df_list_re, ignore_index=True).sort_values('발간일').reset_index(drop=True)"
   ]
  },
  {
   "cell_type": "code",
   "execution_count": null,
   "metadata": {},
   "outputs": [],
   "source": [
    "# 합쳐서 저장하기\n",
    "data_tosave_re = combined_df.rename(columns={'Unnamed: 0':'No'}).sort_values('No').reset_index(drop=True)\n",
    "data_tosave_re.to_excel(\"../data/epic_data.xlsx\", engine='xlsxwriter')"
   ]
  }
 ],
 "metadata": {
  "colab": {
   "provenance": []
  },
  "kernelspec": {
   "display_name": "Python 3",
   "language": "python",
   "name": "python3"
  },
  "language_info": {
   "codemirror_mode": {
    "name": "ipython",
    "version": 3
   },
   "file_extension": ".py",
   "mimetype": "text/x-python",
   "name": "python",
   "nbconvert_exporter": "python",
   "pygments_lexer": "ipython3",
   "version": "3.8.0"
  }
 },
 "nbformat": 4,
 "nbformat_minor": 4
}
