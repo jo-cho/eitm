{
 "cells": [
  {
   "cell_type": "markdown",
   "metadata": {},
   "source": [
    "# EPIC 키워드 추이"
   ]
  },
  {
   "cell_type": "code",
   "execution_count": 1,
   "metadata": {
    "id": "W-2ZFqstWNlX"
   },
   "outputs": [],
   "source": [
    "import pandas as pd\n",
    "import numpy as np\n",
    "import matplotlib.pyplot as plt\n",
    "from matplotlib import font_manager, rc\n",
    "from collections import Counter\n",
    "\n",
    "plt.rc('font', family='Malgun Gothic')\n",
    "font_path = r\"C:/windows/fonts/malgun.ttf\""
   ]
  },
  {
   "cell_type": "markdown",
   "metadata": {},
   "source": [
    "# 데이터 불러오기"
   ]
  },
  {
   "cell_type": "code",
   "execution_count": 2,
   "metadata": {
    "id": "RAcOTnxsYu2A"
   },
   "outputs": [],
   "source": [
    "file_path = \"../data/\"\n",
    "fn= 'epic_data.xlsx'\n",
    "\n",
    "raw_df = pd.read_excel(file_path+fn)"
   ]
  },
  {
   "cell_type": "markdown",
   "metadata": {},
   "source": [
    "재시작 점\n",
    "\n",
    "---------------------------------"
   ]
  },
  {
   "cell_type": "code",
   "execution_count": 3,
   "metadata": {
    "colab": {
     "base_uri": "https://localhost:8080/",
     "height": 310
    },
    "id": "EPPZnSbeYyo-",
    "outputId": "970c1ab7-bb1e-4986-ab8a-f949cb6988ac"
   },
   "outputs": [],
   "source": [
    "df = raw_df[['발간처','자료명', '발간일','요약']].sort_values('발간일').reset_index(drop=True)\n",
    "\n",
    "# 날짜 형식을 datetime 형식으로 변환하는 함수\n",
    "def convert_to_datetime(date_str):\n",
    "    # 'yyyy.mm.' 형식인 경우\n",
    "    if len(date_str) == 8 and date_str[-1] == '.':\n",
    "        date_str += '01'\n",
    "    # 'yyyy.mm.dd' 형식이 아니거나, 잘못된 형식인 경우 None 반환\n",
    "    elif len(date_str) != 10 or not date_str.replace('.', '').isdigit():\n",
    "        return None\n",
    "    \n",
    "    # 유효하지 않은 일자 확인 및 수정\n",
    "    try:\n",
    "        date = pd.to_datetime(date_str, format='%Y.%m.%d', errors='raise')\n",
    "        # 유효하지 않은 월이나 일을 가진 경우 None 반환\n",
    "        if date.month == 0 or date.day == 0:\n",
    "            return None\n",
    "    except ValueError:\n",
    "        # 잘못된 날짜는 'yyyy.mm.01'로 수정\n",
    "        date_str = date_str[:8] + '01'\n",
    "        try:\n",
    "            date = pd.to_datetime(date_str, format='%Y.%m.%d')\n",
    "        except ValueError:\n",
    "            return None\n",
    "    return date\n",
    "    \n",
    "# '발간일' 컬럼을 datetime 형식으로 변환\n",
    "df['발간일'] = df['발간일'].apply(convert_to_datetime)"
   ]
  },
  {
   "cell_type": "code",
   "execution_count": null,
   "metadata": {},
   "outputs": [],
   "source": [
    "# input\n",
    "keywords = ['저출산','인구감소','인구 감소','저출생','인구부족']\n",
    "start_date = '1996-01-01'\n",
    "end_date = '2024-05-31'\n",
    "period = 'monthly'\n",
    "from_summary = True\n",
    "\n",
    "# function\n",
    "def contains_keyword(text):\n",
    "    if isinstance(text, str):  # Check if the entry is a string\n",
    "        return int(any(keyword in text for keyword in keywords))\n",
    "    return 0  # If not a string, return 0\n",
    "\n",
    "# 요약에 포함되어 있는지 여부\n",
    "df['포함_요약'] = df['요약'].apply(contains_keyword)\n",
    "# 제목에 포함되어 있는지 여부\n",
    "df['포함_제목'] = df['자료명'].apply(contains_keyword)\n",
    "\n",
    "# count by period\n",
    "def count_by_period(data, period, from_summary=True, start_date='1996-01-01', end_date='2024-05-31'):\n",
    "    data = data[(data['발간일'] >= start_date) & (data['발간일'] <= end_date)]\n",
    "    if period == 'daily':\n",
    "        counts = data.groupby(data['발간일'].dt.date)['포함_요약'].agg(['count', 'sum'])\n",
    "    elif period == 'monthly':\n",
    "        counts = data.groupby(data['발간일'].dt.to_period('M'))['포함_요약'].agg(['count', 'sum'])\n",
    "    elif period == 'annually':\n",
    "        counts = data.groupby(data['발간일'].dt.to_period('Y'))['포함_요약'].agg(['count', 'sum'])\n",
    "    else:\n",
    "        raise ValueError(\"Invalid period. Choose from 'daily', 'monthly', or 'annually'.\")\n",
    "\n",
    "    if from_summary is not True:\n",
    "        if period == 'daily':\n",
    "            counts = data.groupby(data['발간일'].dt.date)['포함_제목'].agg(['count', 'sum'])\n",
    "        elif period == 'monthly':\n",
    "            counts = data.groupby(data['발간일'].dt.to_period('M'))['포함_제목'].agg(['count', 'sum'])\n",
    "        elif period == 'annually':\n",
    "            counts = data.groupby(data['발간일'].dt.to_period('Y'))['포함_제목'].agg(['count', 'sum'])\n",
    "        else:\n",
    "            raise ValueError(\"Invalid period. Choose from 'daily', 'monthly', or 'annually'.\")\n",
    "        \n",
    "    counts.columns = ['total_count', 'keyword_count']\n",
    "    \n",
    "    counts_keyword = counts['keyword_count']\n",
    "    return counts_keyword\n",
    "\n",
    "# result\n",
    "result = count_by_period(df, period=period, from_summary=from_summary, start_date=start_date, end_date=end_date)\n",
    "\n",
    "# output\n",
    "plt.figure(figsize=(20, 6))\n",
    "result.plot()\n",
    "plt.title(f'{period} 키워드 검색')\n",
    "plt.xlabel('Date')\n",
    "plt.ylabel('Counts')\n",
    "plt.legend([\" or \".join(keywords)])\n",
    "plt.show()"
   ]
  }
 ],
 "metadata": {
  "colab": {
   "provenance": []
  },
  "kernelspec": {
   "display_name": "Python 3",
   "language": "python",
   "name": "python3"
  },
  "language_info": {
   "codemirror_mode": {
    "name": "ipython",
    "version": 3
   },
   "file_extension": ".py",
   "mimetype": "text/x-python",
   "name": "python",
   "nbconvert_exporter": "python",
   "pygments_lexer": "ipython3",
   "version": "3.8.0"
  }
 },
 "nbformat": 4,
 "nbformat_minor": 4
}
